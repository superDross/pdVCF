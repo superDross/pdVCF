{
 "cells": [
  {
   "cell_type": "code",
   "execution_count": 105,
   "metadata": {
    "collapsed": true
   },
   "outputs": [],
   "source": []
  },
  {
   "cell_type": "code",
   "execution_count": 111,
   "metadata": {},
   "outputs": [
    {
     "data": {
      "text/html": [
       "<div>\n",
       "<table border=\"1\" class=\"dataframe\">\n",
       "  <thead>\n",
       "    <tr>\n",
       "      <th></th>\n",
       "      <th colspan=\"4\" halign=\"left\">Sample1</th>\n",
       "      <th colspan=\"4\" halign=\"left\">Sample2</th>\n",
       "    </tr>\n",
       "    <tr>\n",
       "      <th></th>\n",
       "      <th>GT</th>\n",
       "      <th>AD</th>\n",
       "      <th>DP</th>\n",
       "      <th>GQ</th>\n",
       "      <th>GT</th>\n",
       "      <th>AD</th>\n",
       "      <th>DP</th>\n",
       "      <th>GQ</th>\n",
       "    </tr>\n",
       "  </thead>\n",
       "  <tbody>\n",
       "    <tr>\n",
       "      <th>0</th>\n",
       "      <td>0/1</td>\n",
       "      <td>120,60</td>\n",
       "      <td>180</td>\n",
       "      <td>5</td>\n",
       "      <td>0/1</td>\n",
       "      <td>200,2</td>\n",
       "      <td>202</td>\n",
       "      <td>99</td>\n",
       "    </tr>\n",
       "    <tr>\n",
       "      <th>1</th>\n",
       "      <td>0/1</td>\n",
       "      <td>200,20</td>\n",
       "      <td>60</td>\n",
       "      <td>99</td>\n",
       "      <td>0/1</td>\n",
       "      <td>200,50</td>\n",
       "      <td>250</td>\n",
       "      <td>99</td>\n",
       "    </tr>\n",
       "    <tr>\n",
       "      <th>2</th>\n",
       "      <td>0/1</td>\n",
       "      <td>200,2</td>\n",
       "      <td>202</td>\n",
       "      <td>99</td>\n",
       "      <td>0/1</td>\n",
       "      <td>200,2</td>\n",
       "      <td>202</td>\n",
       "      <td>99</td>\n",
       "    </tr>\n",
       "  </tbody>\n",
       "</table>\n",
       "</div>"
      ],
      "text/plain": [
       "  Sample1                  Sample2                 \n",
       "       GT      AD   DP  GQ      GT      AD   DP  GQ\n",
       "0  0/1     120,60  180  5   0/1     200,2   202  99\n",
       "1  0/1     200,20  60   99  0/1     200,50  250  99\n",
       "2  0/1     200,2   202  99  0/1     200,2   202  99"
      ]
     },
     "execution_count": 111,
     "metadata": {},
     "output_type": "execute_result"
    }
   ],
   "source": [
    "import pandas as pd\n",
    "import numpy as np\n",
    "\n",
    "genotype_data = [\n",
    "                    ['0/1', '120,60', 180, 5, '0/1', '200,2', 202, 99],\n",
    "                    ['0/1', '200,20', 60, 99, '0/1', '200,50', 250, 99],\n",
    "                    ['0/1', '200,2', 202, 99, '0/1', '200,2', 202, 99] \n",
    "]\n",
    "\n",
    "\n",
    "genotype_columns = [['Sample1', 'Sample2'], ['GT', 'AD', 'DP', 'GQ']]\n",
    "cols = pd.MultiIndex.from_product(genotype_columns)\n",
    "df = pd.DataFrame(data=genotype_data, columns=cols)\n",
    "\n",
    "\n",
    "df"
   ]
  },
  {
   "cell_type": "code",
   "execution_count": 113,
   "metadata": {},
   "outputs": [
    {
     "data": {
      "text/html": [
       "<div>\n",
       "<table border=\"1\" class=\"dataframe\">\n",
       "  <thead>\n",
       "    <tr>\n",
       "      <th></th>\n",
       "      <th colspan=\"5\" halign=\"left\">Sample1</th>\n",
       "      <th colspan=\"5\" halign=\"left\">Sample2</th>\n",
       "    </tr>\n",
       "    <tr>\n",
       "      <th></th>\n",
       "      <th>AD</th>\n",
       "      <th>DP</th>\n",
       "      <th>GQ</th>\n",
       "      <th>GT</th>\n",
       "      <th>AB</th>\n",
       "      <th>AD</th>\n",
       "      <th>DP</th>\n",
       "      <th>GQ</th>\n",
       "      <th>GT</th>\n",
       "      <th>AB</th>\n",
       "    </tr>\n",
       "  </thead>\n",
       "  <tbody>\n",
       "    <tr>\n",
       "      <th>0</th>\n",
       "      <td>120,60</td>\n",
       "      <td>180</td>\n",
       "      <td>5</td>\n",
       "      <td>0/1</td>\n",
       "      <td>0.333333</td>\n",
       "      <td>200,2</td>\n",
       "      <td>202</td>\n",
       "      <td>99</td>\n",
       "      <td>0/1</td>\n",
       "      <td>0.009901</td>\n",
       "    </tr>\n",
       "    <tr>\n",
       "      <th>1</th>\n",
       "      <td>200,20</td>\n",
       "      <td>60</td>\n",
       "      <td>99</td>\n",
       "      <td>0/1</td>\n",
       "      <td>0.333333</td>\n",
       "      <td>200,50</td>\n",
       "      <td>250</td>\n",
       "      <td>99</td>\n",
       "      <td>0/1</td>\n",
       "      <td>0.200000</td>\n",
       "    </tr>\n",
       "    <tr>\n",
       "      <th>2</th>\n",
       "      <td>200,2</td>\n",
       "      <td>202</td>\n",
       "      <td>99</td>\n",
       "      <td>0/1</td>\n",
       "      <td>0.009901</td>\n",
       "      <td>200,2</td>\n",
       "      <td>202</td>\n",
       "      <td>99</td>\n",
       "      <td>0/1</td>\n",
       "      <td>0.009901</td>\n",
       "    </tr>\n",
       "  </tbody>\n",
       "</table>\n",
       "</div>"
      ],
      "text/plain": [
       "  Sample1                         Sample2                        \n",
       "       AD   DP  GQ   GT        AB      AD   DP  GQ   GT        AB\n",
       "0  120,60  180  5   0/1  0.333333  200,2   202  99  0/1  0.009901\n",
       "1  200,20  60   99  0/1  0.333333  200,50  250  99  0/1  0.200000\n",
       "2  200,2   202  99  0/1  0.009901  200,2   202  99  0/1  0.009901"
      ]
     },
     "execution_count": 113,
     "metadata": {},
     "output_type": "execute_result"
    }
   ],
   "source": [
    "# MUCH SLOWER THAN ORIGINAL SOLUTION\n",
    "df = pd.DataFrame(data=genotype_data, columns=cols)\n",
    "\n",
    "df.columns = df.columns.swaplevel(0,1)\n",
    "stacked = df.stack()\n",
    "stacked['AB'] = pd.to_numeric(stacked['AD'].str.split(',').str[1])/\\\n",
    "                pd.to_numeric(stacked['DP'])\n",
    "unstacked = stacked.unstack()\n",
    "unstacked.columns = unstacked.columns.swaplevel(1,0)\n",
    "unstacked = unstacked.sortlevel(0, axis=1)\n",
    "unstacked.columns.levels\n",
    "unstacked"
   ]
  },
  {
   "cell_type": "code",
   "execution_count": null,
   "metadata": {},
   "outputs": [],
   "source": []
  },
  {
   "cell_type": "code",
   "execution_count": null,
   "metadata": {
    "collapsed": true
   },
   "outputs": [],
   "source": []
  }
 ],
 "metadata": {
  "kernelspec": {
   "display_name": "Python 3",
   "language": "python",
   "name": "python3"
  },
  "language_info": {
   "codemirror_mode": {
    "name": "ipython",
    "version": 3
   },
   "file_extension": ".py",
   "mimetype": "text/x-python",
   "name": "python",
   "nbconvert_exporter": "python",
   "pygments_lexer": "ipython3",
   "version": "3.5.2"
  }
 },
 "nbformat": 4,
 "nbformat_minor": 2
}
