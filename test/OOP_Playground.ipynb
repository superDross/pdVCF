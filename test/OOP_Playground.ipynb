{
 "cells": [
  {
   "cell_type": "code",
   "execution_count": 59,
   "metadata": {
    "collapsed": false
   },
   "outputs": [
    {
     "data": {
      "text/plain": [
       "<__main__.Polygon at 0x7f31c840a4e0>"
      ]
     },
     "execution_count": 59,
     "metadata": {},
     "output_type": "execute_result"
    }
   ],
   "source": [
    "class Polygon(object):\n",
    "    def __init__(self, id):\n",
    "        self.id = id\n",
    "        \n",
    "    def letter(self, n):\n",
    "        return self.id\n",
    "\n",
    "class Rectangle(Polygon):\n",
    "    def __init__(self, id, width, height):\n",
    "        #super(self.__class__, self).__init__(id)\n",
    "        Polygon.__init__(self, id)\n",
    "        self.shape = (width, height)\n",
    "\n",
    "\n",
    "#Rectangle(id='first', width=2, height=4)\n",
    "p = Polygon(id='second')\n",
    "r = Rectangle(p, width=3, height=4)\n",
    "\n",
    "r.letter(2)"
   ]
  },
  {
   "cell_type": "code",
   "execution_count": 65,
   "metadata": {
    "collapsed": false
   },
   "outputs": [
    {
     "data": {
      "text/plain": [
       "'Bravo'"
      ]
     },
     "execution_count": 65,
     "metadata": {},
     "output_type": "execute_result"
    }
   ],
   "source": [
    "class Common(object):\n",
    "    def __init__(self,x):\n",
    "        self.x = x\n",
    "        \n",
    "    def sharedMethod(self, n):\n",
    "        print(self.x[n])\n",
    "\n",
    "class Alpha(Common):\n",
    "    def __init__(self):\n",
    "        Common.__init__(self,\"Alpha\")\n",
    "\n",
    "class Bravo(Common):\n",
    "    def __init__(self):\n",
    "        Common.__init__(self,\"Bravo\")\n",
    "\n",
    "Bravo().x\n"
   ]
  },
  {
   "cell_type": "code",
   "execution_count": null,
   "metadata": {
    "collapsed": true
   },
   "outputs": [],
   "source": []
  }
 ],
 "metadata": {
  "kernelspec": {
   "display_name": "Python 3",
   "language": "python",
   "name": "python3"
  },
  "language_info": {
   "codemirror_mode": {
    "name": "ipython",
    "version": 3
   },
   "file_extension": ".py",
   "mimetype": "text/x-python",
   "name": "python",
   "nbconvert_exporter": "python",
   "pygments_lexer": "ipython3",
   "version": "3.5.2"
  }
 },
 "nbformat": 4,
 "nbformat_minor": 1
}
