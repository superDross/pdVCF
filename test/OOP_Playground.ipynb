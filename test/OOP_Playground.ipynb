{
 "cells": [
  {
   "cell_type": "code",
   "execution_count": 59,
   "metadata": {
    "collapsed": false
   },
   "outputs": [
    {
     "data": {
      "text/plain": [
       "<__main__.Polygon at 0x7f31c840a4e0>"
      ]
     },
     "execution_count": 59,
     "metadata": {},
     "output_type": "execute_result"
    }
   ],
   "source": [
    "class Polygon(object):\n",
    "    def __init__(self, id):\n",
    "        self.id = id\n",
    "        \n",
    "    def letter(self, n):\n",
    "        return self.id\n",
    "\n",
    "class Rectangle(Polygon):\n",
    "    def __init__(self, id, width, height):\n",
    "        #super(self.__class__, self).__init__(id)\n",
    "        Polygon.__init__(self, id)\n",
    "        self.shape = (width, height)\n",
    "\n",
    "\n",
    "#Rectangle(id='first', width=2, height=4)\n",
    "p = Polygon(id='second')\n",
    "r = Rectangle(p, width=3, height=4)\n",
    "\n",
    "r.letter(2)"
   ]
  },
  {
   "cell_type": "code",
   "execution_count": 65,
   "metadata": {
    "collapsed": false
   },
   "outputs": [
    {
     "data": {
      "text/plain": [
       "'Bravo'"
      ]
     },
     "execution_count": 65,
     "metadata": {},
     "output_type": "execute_result"
    }
   ],
   "source": [
    "class Common(object):\n",
    "    def __init__(self,x):\n",
    "        self.x = x\n",
    "        \n",
    "    def sharedMethod(self, n):\n",
    "        print(self.x[n])\n",
    "\n",
    "class Alpha(Common):\n",
    "    def __init__(self):\n",
    "        Common.__init__(self,\"Alpha\")\n",
    "\n",
    "class Bravo(Common):\n",
    "    def __init__(self):\n",
    "        Common.__init__(self,\"Bravo\")\n",
    "\n",
    "Bravo().x\n"
   ]
  },
  {
   "cell_type": "code",
   "execution_count": 4,
   "metadata": {
    "collapsed": false
   },
   "outputs": [
    {
     "data": {
      "text/plain": [
       "'2:123-123'"
      ]
     },
     "execution_count": 4,
     "metadata": {},
     "output_type": "execute_result"
    }
   ],
   "source": [
    "class Meow(object):\n",
    "    \n",
    "    def __init__(self,x):\n",
    "        self.x = x\n",
    "        \n",
    "    def some(self):\n",
    "        return Meow.pos2range(self.x)\n",
    "    \n",
    "    @staticmethod\n",
    "    def pos2range(pos): \n",
    "        if \"-\" not in pos:\n",
    "            split = pos.split(\":\")\n",
    "            pos = \"{}:{}-{}\".format(split[0], split[1], split[1])\n",
    "            return pos\n",
    "        else:\n",
    "            pos\n",
    "\n",
    "\n",
    "\n",
    "Meow(\"2:123\").some()"
   ]
  },
  {
   "cell_type": "code",
   "execution_count": 45,
   "metadata": {
    "collapsed": false
   },
   "outputs": [
    {
     "name": "stdout",
     "output_type": "stream",
     "text": [
      "Current: off  => switched to new state on\n",
      "Current: on  => switched to new state off\n",
      "Current: off  => switched to new state on\n",
      "Current: on  => switched to new state suspend\n",
      "Current: suspend  => switching to hibernate not possible.\n",
      "Current: suspend  => switched to new state on\n",
      "Current: on  => switched to new state off\n"
     ]
    }
   ],
   "source": [
    "class ComputerState(object):\n",
    "    \"\"\" Abstract base class of state of a computer \"\"\"\n",
    "    \n",
    "    name = \"state\"\n",
    "    allowed = []\n",
    "    \n",
    "    def switch(self, state):\n",
    "        \"\"\" Switch to new state \"\"\"\n",
    "        if state.name in self.allowed:\n",
    "            print('Current:',self,' => switched to new state',state.name   )      \n",
    "            self.__class__ = state\n",
    "        else:\n",
    "            print('Current:',self,' => switching to',state.name,'not possible.')\n",
    "\n",
    "    def __str__(self):\n",
    "        return self.name\n",
    "    \n",
    "class Off(ComputerState):\n",
    "    \"\"\" State being switched off \"\"\"\n",
    "\n",
    "    name = \"off\"\n",
    "    allowed = ['on']\n",
    "\n",
    "class On(ComputerState):\n",
    "    \"\"\" State of being powered on and working \"\"\"\n",
    "\n",
    "    name = \"on\"\n",
    "    allowed = ['off','suspend','hibernate']\n",
    "\n",
    "class Suspend(ComputerState):\n",
    "    \"\"\" State of being in suspended mode after switched on \"\"\"\n",
    "\n",
    "    name = \"suspend\"\n",
    "    allowed = ['on']\n",
    "\n",
    "class Hibernate(ComputerState):\n",
    "    \"\"\" State of being in hibernation after powered on \"\"\"\n",
    "\n",
    "    name = \"hibernate\"\n",
    "    allowed = ['on']\n",
    "\n",
    "class Computer(object):\n",
    "    \"\"\" A class representing a computer \"\"\"\n",
    "\n",
    "    def __init__(self, model='HP'):\n",
    "        self.model = model\n",
    "        # State of the computer - default is off.\n",
    "        self.state = Off()\n",
    "\n",
    "    def change(self, state):\n",
    "        \"\"\" Change state \"\"\"\n",
    "\n",
    "        self.state.switch(state)\n",
    "\n",
    "\n",
    "comp = Computer()\n",
    "# Switch on\n",
    "comp.change(On)\n",
    "# Switch off\n",
    "comp.change(Off)\n",
    "\n",
    "# Switch on again\n",
    "comp.change(On)\n",
    "# Suspend\n",
    "comp.change(Suspend)\n",
    "# Try to hibernate - cannot!\n",
    "comp.change(Hibernate)\n",
    "# switch on back\n",
    "comp.change(On)\n",
    "# Finally off\n",
    "comp.change(Off)"
   ]
  },
  {
   "cell_type": "code",
   "execution_count": 1,
   "metadata": {
    "collapsed": false
   },
   "outputs": [
    {
     "name": "stdout",
     "output_type": "stream",
     "text": [
      "['AC', 'LOLZ']\n"
     ]
    },
    {
     "name": "stderr",
     "output_type": "stream",
     "text": [
      "/home/david/projects/pdVCF/pdVCF/vcf2dataframe.py:220: PerformanceWarning: dropping on a non-lexsorted multi-index without a level parameter may impact performance.\n",
      "  df = df.drop('INFO', axis=1)\n",
      "/home/david/projects/pdVCF/pdVCF/vcf2dataframe.py:253: PerformanceWarning: dropping on a non-lexsorted multi-index without a level parameter may impact performance.\n",
      "  df = df.drop('UID', axis=1)\n"
     ]
    },
    {
     "data": {
      "text/html": [
       "<div>\n",
       "<table border=\"1\" class=\"dataframe\">\n",
       "  <thead>\n",
       "    <tr>\n",
       "      <th></th>\n",
       "      <th>CHROM</th>\n",
       "      <th>POS</th>\n",
       "      <th>ID</th>\n",
       "      <th>REF</th>\n",
       "      <th>ALT</th>\n",
       "      <th>QUAL</th>\n",
       "      <th>FILTER</th>\n",
       "      <th>FORMAT</th>\n",
       "      <th colspan=\"2\" halign=\"left\">INFO</th>\n",
       "      <th colspan=\"6\" halign=\"left\">22MI1099</th>\n",
       "    </tr>\n",
       "    <tr>\n",
       "      <th></th>\n",
       "      <th></th>\n",
       "      <th></th>\n",
       "      <th></th>\n",
       "      <th></th>\n",
       "      <th></th>\n",
       "      <th></th>\n",
       "      <th></th>\n",
       "      <th></th>\n",
       "      <th>AC</th>\n",
       "      <th>LOLZ</th>\n",
       "      <th>GT</th>\n",
       "      <th>AD</th>\n",
       "      <th>DP</th>\n",
       "      <th>GQ</th>\n",
       "      <th>PL</th>\n",
       "      <th>AB</th>\n",
       "    </tr>\n",
       "  </thead>\n",
       "  <tbody>\n",
       "    <tr>\n",
       "      <th>1:2235901-A/G</th>\n",
       "      <td>1</td>\n",
       "      <td>2235901</td>\n",
       "      <td>.</td>\n",
       "      <td>A</td>\n",
       "      <td>G</td>\n",
       "      <td>24.89</td>\n",
       "      <td>LowQual</td>\n",
       "      <td>GT:AD:DP:GQ:PL</td>\n",
       "      <td>0</td>\n",
       "      <td>0</td>\n",
       "      <td>1/1</td>\n",
       "      <td>200,200</td>\n",
       "      <td>400.0</td>\n",
       "      <td>90.0</td>\n",
       "      <td>100,0,100</td>\n",
       "      <td>0.5</td>\n",
       "    </tr>\n",
       "  </tbody>\n",
       "</table>\n",
       "</div>"
      ],
      "text/plain": [
       "              CHROM      POS ID REF ALT   QUAL   FILTER          FORMAT INFO  \\\n",
       "                                                                          AC   \n",
       "1:2235901-A/G  1     2235901  .  A   G   24.89  LowQual  GT:AD:DP:GQ:PL  0     \n",
       "\n",
       "                   22MI1099                                        \n",
       "              LOLZ       GT       AD     DP    GQ         PL   AB  \n",
       "1:2235901-A/G  0    1/1      200,200  400.0  90.0  100,0,100  0.5  "
      ]
     },
     "execution_count": 1,
     "metadata": {},
     "output_type": "execute_result"
    }
   ],
   "source": [
    "from pdVCF.pdVCF import VCF\n",
    "\n",
    "t = \"26PL1207.oct.noInDels.recode.vcf\"\n",
    "test_vcf = VCF(t, genotype_level=True, \n",
    "        info_level=True, UID=True)\n",
    "\n",
    "test_vcf.get_genotype('DP')\n",
    "\n",
    "test_vcf.get_genotype('DP')\n",
    "\n",
    "test_vcf.subset(['22MI1099'], remove_uncalled=True, exclude_ref=True)\n",
    "test_vcf.filter_genotype(minDP=12, minGQ=51)\n",
    "test_vcf.positions('1:2235000-2235600', include=False)\n",
    "test_vcf.biallelic()\n",
    "\n",
    "test_vcf.remove_indels()\n"
   ]
  },
  {
   "cell_type": "code",
   "execution_count": null,
   "metadata": {
    "collapsed": true
   },
   "outputs": [],
   "source": []
  }
 ],
 "metadata": {
  "kernelspec": {
   "display_name": "Python 3",
   "language": "python",
   "name": "python3"
  },
  "language_info": {
   "codemirror_mode": {
    "name": "ipython",
    "version": 3
   },
   "file_extension": ".py",
   "mimetype": "text/x-python",
   "name": "python",
   "nbconvert_exporter": "python",
   "pygments_lexer": "ipython3",
   "version": "3.5.2"
  }
 },
 "nbformat": 4,
 "nbformat_minor": 1
}
