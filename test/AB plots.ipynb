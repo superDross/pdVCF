{
 "cells": [
  {
   "cell_type": "code",
   "execution_count": 1,
<<<<<<< HEAD
   "metadata": {
    "collapsed": false
   },
   "outputs": [],
=======
   "metadata": {},
   "outputs": [
    {
     "ename": "ValueError",
     "evalue": "Unable to parse string \"1,0,0\" at position 13",
     "output_type": "error",
     "traceback": [
      "\u001b[0;31m---------------------------------------------------------------------------\u001b[0m",
      "\u001b[0;31mValueError\u001b[0m                                Traceback (most recent call last)",
      "\u001b[0;32mpandas/src/inference.pyx\u001b[0m in \u001b[0;36mpandas.lib.maybe_convert_numeric (pandas/lib.c:55708)\u001b[0;34m()\u001b[0m\n",
      "\u001b[0;31mValueError\u001b[0m: Unable to parse string \"1,0,0\"",
      "\nDuring handling of the above exception, another exception occurred:\n",
      "\u001b[0;31mValueError\u001b[0m                                Traceback (most recent call last)",
      "\u001b[0;32m<ipython-input-1-e4db4524339c>\u001b[0m in \u001b[0;36m<module>\u001b[0;34m()\u001b[0m\n\u001b[1;32m      5\u001b[0m \u001b[0;34m\u001b[0m\u001b[0m\n\u001b[1;32m      6\u001b[0m \u001b[0mf\u001b[0m \u001b[0;34m=\u001b[0m \u001b[0;34m'vcfs/combined.UkYaleTAAD.vcf'\u001b[0m\u001b[0;34m\u001b[0m\u001b[0m\n\u001b[0;32m----> 7\u001b[0;31m \u001b[0mvcf\u001b[0m \u001b[0;34m=\u001b[0m \u001b[0mVCF\u001b[0m\u001b[0;34m(\u001b[0m\u001b[0mf\u001b[0m\u001b[0;34m)\u001b[0m\u001b[0;34m\u001b[0m\u001b[0m\n\u001b[0m",
      "\u001b[0;32m/home/david/projects/pdVCF/pdVCF/pdVCF.py\u001b[0m in \u001b[0;36m__init__\u001b[0;34m(self, vcf, genotype_level, info_level, UID)\u001b[0m\n\u001b[1;32m     26\u001b[0m \u001b[0;34m\u001b[0m\u001b[0m\n\u001b[1;32m     27\u001b[0m         self.vcf = vcf2dataframe(vcf, genotype_level=genotype_level,\n\u001b[0;32m---> 28\u001b[0;31m                                  info_level=info_level, UID=UID)\n\u001b[0m\u001b[1;32m     29\u001b[0m \u001b[0;34m\u001b[0m\u001b[0m\n\u001b[1;32m     30\u001b[0m \u001b[0;34m\u001b[0m\u001b[0m\n",
      "\u001b[0;32m/home/david/projects/pdVCF/pdVCF/vcf2dataframe.py\u001b[0m in \u001b[0;36mvcf2dataframe\u001b[0;34m(filename, genotype_level, info_level, UID)\u001b[0m\n\u001b[1;32m     47\u001b[0m \u001b[0;34m\u001b[0m\u001b[0m\n\u001b[1;32m     48\u001b[0m     \u001b[0;32mif\u001b[0m \u001b[0mgenotype_level\u001b[0m\u001b[0;34m:\u001b[0m\u001b[0;34m\u001b[0m\u001b[0m\n\u001b[0;32m---> 49\u001b[0;31m         \u001b[0mdf\u001b[0m \u001b[0;34m=\u001b[0m \u001b[0mget_genotype_data\u001b[0m\u001b[0;34m(\u001b[0m\u001b[0mdf\u001b[0m\u001b[0;34m)\u001b[0m\u001b[0;34m\u001b[0m\u001b[0m\n\u001b[0m\u001b[1;32m     50\u001b[0m \u001b[0;34m\u001b[0m\u001b[0m\n\u001b[1;32m     51\u001b[0m     \u001b[0;32mif\u001b[0m \u001b[0minfo_level\u001b[0m\u001b[0;34m:\u001b[0m\u001b[0;34m\u001b[0m\u001b[0m\n",
      "\u001b[0;32m/home/david/projects/pdVCF/pdVCF/vcf2dataframe.py\u001b[0m in \u001b[0;36mget_genotype_data\u001b[0;34m(df)\u001b[0m\n\u001b[1;32m    146\u001b[0m \u001b[0;34m\u001b[0m\u001b[0m\n\u001b[1;32m    147\u001b[0m     \u001b[0;31m# add allele balance to sample genotype information\u001b[0m\u001b[0;34m\u001b[0m\u001b[0;34m\u001b[0m\u001b[0m\n\u001b[0;32m--> 148\u001b[0;31m     \u001b[0msams\u001b[0m \u001b[0;34m=\u001b[0m \u001b[0;34m[\u001b[0m\u001b[0mcalc_AB\u001b[0m\u001b[0;34m(\u001b[0m\u001b[0msam\u001b[0m\u001b[0;34m)\u001b[0m \u001b[0;32mfor\u001b[0m \u001b[0msam\u001b[0m \u001b[0;32min\u001b[0m \u001b[0msams\u001b[0m\u001b[0;34m]\u001b[0m\u001b[0;34m\u001b[0m\u001b[0m\n\u001b[0m\u001b[1;32m    149\u001b[0m \u001b[0;34m\u001b[0m\u001b[0m\n\u001b[1;32m    150\u001b[0m     \u001b[0;31m# concat all dfs in the list\u001b[0m\u001b[0;34m\u001b[0m\u001b[0;34m\u001b[0m\u001b[0m\n",
      "\u001b[0;32m/home/david/projects/pdVCF/pdVCF/vcf2dataframe.py\u001b[0m in \u001b[0;36m<listcomp>\u001b[0;34m(.0)\u001b[0m\n\u001b[1;32m    146\u001b[0m \u001b[0;34m\u001b[0m\u001b[0m\n\u001b[1;32m    147\u001b[0m     \u001b[0;31m# add allele balance to sample genotype information\u001b[0m\u001b[0;34m\u001b[0m\u001b[0;34m\u001b[0m\u001b[0m\n\u001b[0;32m--> 148\u001b[0;31m     \u001b[0msams\u001b[0m \u001b[0;34m=\u001b[0m \u001b[0;34m[\u001b[0m\u001b[0mcalc_AB\u001b[0m\u001b[0;34m(\u001b[0m\u001b[0msam\u001b[0m\u001b[0;34m)\u001b[0m \u001b[0;32mfor\u001b[0m \u001b[0msam\u001b[0m \u001b[0;32min\u001b[0m \u001b[0msams\u001b[0m\u001b[0;34m]\u001b[0m\u001b[0;34m\u001b[0m\u001b[0m\n\u001b[0m\u001b[1;32m    149\u001b[0m \u001b[0;34m\u001b[0m\u001b[0m\n\u001b[1;32m    150\u001b[0m     \u001b[0;31m# concat all dfs in the list\u001b[0m\u001b[0;34m\u001b[0m\u001b[0;34m\u001b[0m\u001b[0m\n",
      "\u001b[0;32m/home/david/projects/pdVCF/pdVCF/vcf2dataframe.py\u001b[0m in \u001b[0;36mcalc_AB\u001b[0;34m(vcf)\u001b[0m\n\u001b[1;32m    166\u001b[0m     '''\n\u001b[1;32m    167\u001b[0m     \u001b[0msam\u001b[0m \u001b[0;34m=\u001b[0m \u001b[0mvcf\u001b[0m\u001b[0;34m.\u001b[0m\u001b[0mcolumns\u001b[0m\u001b[0;34m.\u001b[0m\u001b[0mlevels\u001b[0m\u001b[0;34m[\u001b[0m\u001b[0;36m0\u001b[0m\u001b[0;34m]\u001b[0m\u001b[0;34m[\u001b[0m\u001b[0;36m0\u001b[0m\u001b[0;34m]\u001b[0m\u001b[0;34m\u001b[0m\u001b[0m\n\u001b[0;32m--> 168\u001b[0;31m     \u001b[0mvcf\u001b[0m\u001b[0;34m[\u001b[0m\u001b[0msam\u001b[0m\u001b[0;34m,\u001b[0m\u001b[0;34m'DP'\u001b[0m\u001b[0;34m]\u001b[0m \u001b[0;34m=\u001b[0m \u001b[0mpd\u001b[0m\u001b[0;34m.\u001b[0m\u001b[0mto_numeric\u001b[0m\u001b[0;34m(\u001b[0m\u001b[0mvcf\u001b[0m\u001b[0;34m[\u001b[0m\u001b[0msam\u001b[0m\u001b[0;34m,\u001b[0m\u001b[0;34m'DP'\u001b[0m\u001b[0;34m]\u001b[0m\u001b[0;34m)\u001b[0m\u001b[0;34m\u001b[0m\u001b[0m\n\u001b[0m\u001b[1;32m    169\u001b[0m     \u001b[0mvcf\u001b[0m\u001b[0;34m[\u001b[0m\u001b[0msam\u001b[0m\u001b[0;34m,\u001b[0m\u001b[0;34m'GQ'\u001b[0m\u001b[0;34m]\u001b[0m \u001b[0;34m=\u001b[0m \u001b[0mpd\u001b[0m\u001b[0;34m.\u001b[0m\u001b[0mto_numeric\u001b[0m\u001b[0;34m(\u001b[0m\u001b[0mvcf\u001b[0m\u001b[0;34m[\u001b[0m\u001b[0msam\u001b[0m\u001b[0;34m,\u001b[0m\u001b[0;34m'GQ'\u001b[0m\u001b[0;34m]\u001b[0m\u001b[0;34m)\u001b[0m\u001b[0;34m\u001b[0m\u001b[0m\n\u001b[1;32m    170\u001b[0m     \u001b[0mAD\u001b[0m \u001b[0;34m=\u001b[0m \u001b[0mvcf\u001b[0m\u001b[0;34m.\u001b[0m\u001b[0mxs\u001b[0m\u001b[0;34m(\u001b[0m\u001b[0;34m'AD'\u001b[0m\u001b[0;34m,\u001b[0m \u001b[0mlevel\u001b[0m\u001b[0;34m=\u001b[0m\u001b[0;36m1\u001b[0m\u001b[0;34m,\u001b[0m \u001b[0maxis\u001b[0m\u001b[0;34m=\u001b[0m\u001b[0;36m1\u001b[0m\u001b[0;34m)\u001b[0m\u001b[0;34m.\u001b[0m\u001b[0munstack\u001b[0m\u001b[0;34m(\u001b[0m\u001b[0;34m)\u001b[0m\u001b[0;34m.\u001b[0m\u001b[0mstr\u001b[0m\u001b[0;34m.\u001b[0m\u001b[0msplit\u001b[0m\u001b[0;34m(\u001b[0m\u001b[0;34m\",\"\u001b[0m\u001b[0;34m,\u001b[0m \u001b[0mn\u001b[0m\u001b[0;34m=\u001b[0m\u001b[0;36m2\u001b[0m\u001b[0;34m)\u001b[0m\u001b[0;34m\u001b[0m\u001b[0m\n",
      "\u001b[0;32m/usr/local/lib/python3.5/dist-packages/pandas/tools/util.py\u001b[0m in \u001b[0;36mto_numeric\u001b[0;34m(arg, errors, downcast)\u001b[0m\n\u001b[1;32m    193\u001b[0m             \u001b[0mcoerce_numeric\u001b[0m \u001b[0;34m=\u001b[0m \u001b[0;32mFalse\u001b[0m \u001b[0;32mif\u001b[0m \u001b[0merrors\u001b[0m \u001b[0;32min\u001b[0m \u001b[0;34m(\u001b[0m\u001b[0;34m'ignore'\u001b[0m\u001b[0;34m,\u001b[0m \u001b[0;34m'raise'\u001b[0m\u001b[0;34m)\u001b[0m \u001b[0;32melse\u001b[0m \u001b[0;32mTrue\u001b[0m\u001b[0;34m\u001b[0m\u001b[0m\n\u001b[1;32m    194\u001b[0m             values = lib.maybe_convert_numeric(values, set(),\n\u001b[0;32m--> 195\u001b[0;31m                                                coerce_numeric=coerce_numeric)\n\u001b[0m\u001b[1;32m    196\u001b[0m \u001b[0;34m\u001b[0m\u001b[0m\n\u001b[1;32m    197\u001b[0m     \u001b[0;32mexcept\u001b[0m \u001b[0mException\u001b[0m\u001b[0;34m:\u001b[0m\u001b[0;34m\u001b[0m\u001b[0m\n",
      "\u001b[0;32mpandas/src/inference.pyx\u001b[0m in \u001b[0;36mpandas.lib.maybe_convert_numeric (pandas/lib.c:56097)\u001b[0;34m()\u001b[0m\n",
      "\u001b[0;31mValueError\u001b[0m: Unable to parse string \"1,0,0\" at position 13"
     ]
    }
   ],
>>>>>>> 636a08746b0d1744ba25a52b851712b9b379abd1
   "source": [
    "from pdVCF.pdVCF import VCF\n",
    "import copy\n",
    "import pandas as pd\n",
<<<<<<< HEAD
    "import seaborn as sns"
   ]
  },
  {
   "cell_type": "code",
   "execution_count": null,
   "metadata": {
    "collapsed": true
   },
   "outputs": [],
   "source": [
    "f = 'vep.dbSNP.var.ug.both.yale.taad.filters.renamed.vcf'\n",
    "vcf = VCF(f)"
=======
    "import seaborn as sns\n",
    "\n",
    "f = 'vcfs/combined.UkYaleTAAD.vcf'\n",
    "vcf = VCF(f)\n"
>>>>>>> 636a08746b0d1744ba25a52b851712b9b379abd1
   ]
  },
  {
   "cell_type": "code",
   "execution_count": 2,
   "metadata": {},
   "outputs": [
    {
     "name": "stderr",
     "output_type": "stream",
     "text": [
<<<<<<< HEAD
      "C:\\cygwin64\\home\\dross11\\projects\\pdVCF\\pdVCF\\vcf2dataframe.py:265: PerformanceWarning: dropping on a non-lexsorted multi-index without a level parameter may impact performance.\n",
      "  df = df.drop('UID', axis=1)\n"
=======
      "44.0 (70/159) of variants are not in dbSNP for AB between 0-0.01\n",
      "43.8 (120/274) of variants are not in dbSNP for AB between 0-0.05\n",
      "54.5 (310/569) of variants are not in dbSNP for AB between 0-0.1\n",
      "69.1 (475/687) of variants are not in dbSNP for AB between 0.1-0.2\n",
      "44.7 (148/331) of variants are not in dbSNP for AB between 0.2-0.3\n",
      "17.8 (71/399) of variants are not in dbSNP for AB between 0.3-0.4\n",
      "13.3 (70/528) of variants are not in dbSNP for AB between 0.4-0.5\n",
      "9.6 (45/468) of variants are not in dbSNP for AB between 0.5-0.6\n",
      "7.5 (19/253) of variants are not in dbSNP for AB between 0.6-0.7\n",
      "10.9 (12/110) of variants are not in dbSNP for AB between 0.7-0.8\n",
      "16.9 (10/59) of variants are not in dbSNP for AB between 0.8-0.9\n",
      "4.0 (8/201) of variants are not in dbSNP for AB between 0.9-1\n"
>>>>>>> 636a08746b0d1744ba25a52b851712b9b379abd1
     ]
    }
   ],
   "source": [
    "vcf_uk = VCF('var.both.taadUkJan2017.filters.vcf')"
   ]
  },
  {
   "cell_type": "code",
   "execution_count": 4,
   "metadata": {
    "collapsed": false
   },
   "outputs": [],
   "source": [
    "def ab_stuff(vcf):\n",
    "    AB_list = [0.01, 0.05, 0.1, 0.2, 0.3, 0.4, 0.5, 0.6, 0.7, 0.8, 0.9, 1]\n",
    "\n",
    "    data = []\n",
    "\n",
    "    for ab in AB_list:\n",
    "        v = copy.deepcopy(vcf)\n",
    "\n",
    "        ab_min = \"AB > {}\".format( max(0, ab-0.1))\n",
    "        ab_max = \"AB <= {}\".format(ab)\n",
    "\n",
    "        v.filter_vcf([ab_min, ab_max, 'DP >= 50', 'GQ >= 30', 'GT != 0/0', 'GT != ./.'], op='&', how='any')\n",
    "        not_in_DB = len(v.vcf[v.vcf['ID'] == '.'])\n",
    "\n",
<<<<<<< HEAD
    "        if v.vcf.shape[0] > 0:\n",
    "            percent = not_in_DB / v.vcf.shape[0] * 100\n",
    "            print(\"{} ({}/{}) of variants are not in dbSNP for AB between {}-{}\".format(percent, not_in_DB, v.vcf.shape[0], max(0, round(ab-0.1, 1)), ab))\n",
    "        else:\n",
    "            print(\"0 variants after filtering for AB between {}-{}\".format(ab_min, ab_max))\n",
    "            pass\n",
=======
    "    if v.vcf.shape[0] > 0:\n",
    "        percent = round(not_in_DB / v.vcf.shape[0] * 100,1)\n",
    "        print(\"{} ({}/{}) of variants are not in dbSNP for AB between {}-{}\".format(percent, not_in_DB, v.vcf.shape[0], max(0, round(ab-0.1, 1)), ab))\n",
    "    else:\n",
    "        print(\"0 variants after filtering for AB between {}-{}\".format(ab_min, ab_max))\n",
    "        pass\n",
    "    \n",
    "    data.append([ab, v.vcf.shape[0], not_in_DB, percent])\n",
>>>>>>> 636a08746b0d1744ba25a52b851712b9b379abd1
    "\n",
    "        data.append([ab, v.vcf.shape[0], not_in_DB, percent])\n",
    "\n",
    "\n",
    "\n",
    "\n",
    "    df = pd.DataFrame(columns=['AB', 'No. Variants', 'Not in dbSNP', 'Percent'],\n",
    "                      data=data)\n",
    "    return df\n",
    "\n"
   ]
  },
  {
   "cell_type": "code",
<<<<<<< HEAD
   "execution_count": null,
   "metadata": {
    "collapsed": false
   },
   "outputs": [],
   "source": [
    "df_yale = ab_stuff(vcf)\n"
   ]
  },
  {
   "cell_type": "code",
   "execution_count": 5,
   "metadata": {
    "collapsed": false
   },
   "outputs": [
    {
     "name": "stdout",
     "output_type": "stream",
     "text": [
      "44.0251572327044 (70/159) of variants are not in dbSNP for AB between 0-0.01\n",
      "43.79562043795621 (120/274) of variants are not in dbSNP for AB between 0-0.05\n",
      "54.48154657293497 (310/569) of variants are not in dbSNP for AB between 0-0.1\n",
      "69.14119359534206 (475/687) of variants are not in dbSNP for AB between 0.1-0.2\n",
      "44.71299093655589 (148/331) of variants are not in dbSNP for AB between 0.2-0.3\n",
      "17.794486215538846 (71/399) of variants are not in dbSNP for AB between 0.3-0.4\n",
      "13.257575757575758 (70/528) of variants are not in dbSNP for AB between 0.4-0.5\n",
      "9.615384615384617 (45/468) of variants are not in dbSNP for AB between 0.5-0.6\n",
      "7.5098814229249005 (19/253) of variants are not in dbSNP for AB between 0.6-0.7\n",
      "10.909090909090908 (12/110) of variants are not in dbSNP for AB between 0.7-0.8\n",
      "16.94915254237288 (10/59) of variants are not in dbSNP for AB between 0.8-0.9\n",
      "3.9800995024875623 (8/201) of variants are not in dbSNP for AB between 0.9-1\n"
     ]
=======
   "execution_count": 3,
   "metadata": {},
   "outputs": [
    {
     "data": {
      "text/html": [
       "<div>\n",
       "<table border=\"1\" class=\"dataframe\">\n",
       "  <thead>\n",
       "    <tr style=\"text-align: right;\">\n",
       "      <th></th>\n",
       "      <th>AB</th>\n",
       "      <th>No. Variants</th>\n",
       "      <th>Not in dbSNP</th>\n",
       "      <th>Percent</th>\n",
       "    </tr>\n",
       "  </thead>\n",
       "  <tbody>\n",
       "    <tr>\n",
       "      <th>0</th>\n",
       "      <td>0.01</td>\n",
       "      <td>159</td>\n",
       "      <td>70</td>\n",
       "      <td>44.0</td>\n",
       "    </tr>\n",
       "    <tr>\n",
       "      <th>1</th>\n",
       "      <td>0.05</td>\n",
       "      <td>274</td>\n",
       "      <td>120</td>\n",
       "      <td>43.8</td>\n",
       "    </tr>\n",
       "    <tr>\n",
       "      <th>2</th>\n",
       "      <td>0.10</td>\n",
       "      <td>569</td>\n",
       "      <td>310</td>\n",
       "      <td>54.5</td>\n",
       "    </tr>\n",
       "    <tr>\n",
       "      <th>3</th>\n",
       "      <td>0.20</td>\n",
       "      <td>687</td>\n",
       "      <td>475</td>\n",
       "      <td>69.1</td>\n",
       "    </tr>\n",
       "    <tr>\n",
       "      <th>4</th>\n",
       "      <td>0.30</td>\n",
       "      <td>331</td>\n",
       "      <td>148</td>\n",
       "      <td>44.7</td>\n",
       "    </tr>\n",
       "    <tr>\n",
       "      <th>5</th>\n",
       "      <td>0.40</td>\n",
       "      <td>399</td>\n",
       "      <td>71</td>\n",
       "      <td>17.8</td>\n",
       "    </tr>\n",
       "    <tr>\n",
       "      <th>6</th>\n",
       "      <td>0.50</td>\n",
       "      <td>528</td>\n",
       "      <td>70</td>\n",
       "      <td>13.3</td>\n",
       "    </tr>\n",
       "    <tr>\n",
       "      <th>7</th>\n",
       "      <td>0.60</td>\n",
       "      <td>468</td>\n",
       "      <td>45</td>\n",
       "      <td>9.6</td>\n",
       "    </tr>\n",
       "    <tr>\n",
       "      <th>8</th>\n",
       "      <td>0.70</td>\n",
       "      <td>253</td>\n",
       "      <td>19</td>\n",
       "      <td>7.5</td>\n",
       "    </tr>\n",
       "    <tr>\n",
       "      <th>9</th>\n",
       "      <td>0.80</td>\n",
       "      <td>110</td>\n",
       "      <td>12</td>\n",
       "      <td>10.9</td>\n",
       "    </tr>\n",
       "    <tr>\n",
       "      <th>10</th>\n",
       "      <td>0.90</td>\n",
       "      <td>59</td>\n",
       "      <td>10</td>\n",
       "      <td>16.9</td>\n",
       "    </tr>\n",
       "    <tr>\n",
       "      <th>11</th>\n",
       "      <td>1.00</td>\n",
       "      <td>201</td>\n",
       "      <td>8</td>\n",
       "      <td>4.0</td>\n",
       "    </tr>\n",
       "  </tbody>\n",
       "</table>\n",
       "</div>"
      ],
      "text/plain": [
       "      AB  No. Variants  Not in dbSNP  Percent\n",
       "0   0.01  159           70            44.0   \n",
       "1   0.05  274           120           43.8   \n",
       "2   0.10  569           310           54.5   \n",
       "3   0.20  687           475           69.1   \n",
       "4   0.30  331           148           44.7   \n",
       "5   0.40  399           71            17.8   \n",
       "6   0.50  528           70            13.3   \n",
       "7   0.60  468           45            9.6    \n",
       "8   0.70  253           19            7.5    \n",
       "9   0.80  110           12            10.9   \n",
       "10  0.90  59            10            16.9   \n",
       "11  1.00  201           8             4.0    "
      ]
     },
     "execution_count": 3,
     "metadata": {},
     "output_type": "execute_result"
>>>>>>> 636a08746b0d1744ba25a52b851712b9b379abd1
    }
   ],
   "source": [
    "df_uk = ab_stuff(vcf_uk)"
   ]
  },
  {
   "cell_type": "code",
<<<<<<< HEAD
   "execution_count": 6,
   "metadata": {
    "collapsed": false
   },
=======
   "execution_count": 8,
   "metadata": {},
>>>>>>> 636a08746b0d1744ba25a52b851712b9b379abd1
   "outputs": [
    {
     "data": {
      "image/png": "iVBORw0KGgoAAAANSUhEUgAAAmMAAAJfCAYAAAAzcNGrAAAABHNCSVQICAgIfAhkiAAAAAlwSFlz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\nYII=\n",
      "text/plain": [
<<<<<<< HEAD
       "<matplotlib.figure.Figure at 0xb3f3e80>"
=======
       "<matplotlib.figure.Figure at 0x7fc0da8f9630>"
>>>>>>> 636a08746b0d1744ba25a52b851712b9b379abd1
      ]
     },
     "metadata": {},
     "output_type": "display_data"
    }
   ],
   "source": [
    "import seaborn as sns\n",
    "import matplotlib.pyplot as plt\n",
    "%matplotlib inline \n",
    "\n",
    "\n",
    "sns.set(style=\"whitegrid\")\n",
    "\n",
    "# Initialize the matplotlib figure\n",
    "f, ax = plt.subplots(figsize=(10, 10))\n",
    "\n",
    "# all vars\n",
    "sns.set_color_codes(\"pastel\")\n",
    "sns.barplot(y=\"No. Variants\", x=\"AB\", data=df,\n",
    "            label=\"Total\", color=\"0.9\")\n",
    "\n",
    "# vars NOT in dbSNP\n",
    "sns.set_color_codes(\"muted\")\n",
    "sns.barplot(y=\"Not in dbSNP\", x=\"AB\", data=df,\n",
    "            label=\"Likely Artifacts\", color=\"0.7\")\n",
    "\n",
    "ax.set(ylabel='Variants', xlabel='Allele Balance')\n",
    "ax.legend(ncol=2, loc=\"upper right\", frameon=True)\n",
    "\n",
    "\n",
    "for x in range(len(df)):\n",
    "    ax.text(x-0.3, ax.patches[x].get_height()+4, \"{}%\".format(round(df['Percent'].ix[x], 1)))\n",
    "\n",
    "fig = ax.get_figure()\n",
    "fig.savefig('AB Series Present in dbSNP.png')\n"
   ]
  },
  {
   "cell_type": "code",
   "execution_count": 6,
   "metadata": {},
   "outputs": [],
   "source": []
  },
  {
   "cell_type": "code",
<<<<<<< HEAD
   "execution_count": null,
   "metadata": {
    "collapsed": false
   },
=======
   "execution_count": 1,
   "metadata": {},
>>>>>>> 636a08746b0d1744ba25a52b851712b9b379abd1
   "outputs": [],
   "source": []
  },
  {
   "cell_type": "code",
   "execution_count": null,
   "metadata": {
    "collapsed": true
   },
   "outputs": [],
   "source": []
  }
 ],
 "metadata": {
  "anaconda-cloud": {},
  "celltoolbar": "Tags",
  "kernelspec": {
   "display_name": "Python 3",
   "language": "python",
   "name": "python3"
  }
 },
 "nbformat": 4,
 "nbformat_minor": 1
}
