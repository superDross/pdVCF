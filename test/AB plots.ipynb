{
 "cells": [
  {
   "cell_type": "code",
   "execution_count": 1,
   "metadata": {},
   "outputs": [],
   "source": [
    "from pdVCF.pdVCF import VCF\n",
    "import copy\n",
    "import pandas as pd\n",
    "import seaborn as sns"
   ]
  },
  {
   "cell_type": "code",
   "execution_count": 2,
   "metadata": {},
   "outputs": [
    {
     "name": "stderr",
     "output_type": "stream",
     "text": [
      "/home/david/projects/pdVCF/pdVCF/vcf2dataframe.py:262: PerformanceWarning: dropping on a non-lexsorted multi-index without a level parameter may impact performance.\n",
      "  df = df.drop('UID', axis=1)\n"
     ]
    }
   ],
   "source": [
    "f = 'vcfs/vep.dbSNP.var.ug.both.yale.taad.filters.renamed.vcf'\n",
    "vcf = VCF(f)"
   ]
  },
  {
   "cell_type": "code",
   "execution_count": 3,
   "metadata": {},
   "outputs": [
    {
     "name": "stderr",
     "output_type": "stream",
     "text": [
      "/home/david/projects/pdVCF/pdVCF/vcf2dataframe.py:262: PerformanceWarning: dropping on a non-lexsorted multi-index without a level parameter may impact performance.\n",
      "  df = df.drop('UID', axis=1)\n"
     ]
    }
   ],
   "source": [
    "vcf_uk = VCF('vcfs/var.both.taadUkJan2017.filters.vcf')"
   ]
  },
  {
   "cell_type": "code",
   "execution_count": 38,
   "metadata": {},
   "outputs": [],
   "source": [
    "def ab_stuff(vcf):\n",
    "    AB_list = [0.01, 0.05, 0.1, 0.2, 0.3, 0.4, 0.5, 0.6, 0.7, 0.8, 0.9, 1]\n",
    "\n",
    "    data = []\n",
    "\n",
    "    for ab in AB_list:\n",
    "        v = copy.deepcopy(vcf)\n",
    "\n",
    "        ab_min = \"AB > {}\".format( ab)\n",
    "        ab_max = \"AB <= {}\".format(1)\n",
    "\n",
    "        v.filter_vcf([ab_min, ab_max, 'DP >= 50', 'GQ >= 30', 'GT != 0/0', 'GT != ./.'], op='&', how='any')\n",
    "        not_in_DB = len(v.vcf[v.vcf['ID'] == '.'])\n",
    "\n",
    "        if v.vcf.shape[0] > 0:\n",
    "            percent = not_in_DB / v.vcf.shape[0] * 100\n",
    "            print(\"{} ({}/{}) of variants are not in dbSNP for AB between {}-{}\".format(percent, not_in_DB, v.vcf.shape[0], 1, ab))\n",
    "        else:\n",
    "            print(\"0 variants after filtering for AB between {}-{}\".format(ab_min, ab_max))\n",
    "            pass\n",
    "\n",
    "        data.append([ab, v.vcf.shape[0], not_in_DB, percent])\n",
    "\n",
    "\n",
    "\n",
    "\n",
    "    df = pd.DataFrame(columns=['AB', 'No. Variants', 'Not in dbSNP', 'Percent'],\n",
    "                      data=data)\n",
    "    return df\n",
    "\n"
   ]
  },
  {
   "cell_type": "code",
   "execution_count": 39,
   "metadata": {
    "scrolled": true
   },
   "outputs": [
    {
     "name": "stdout",
     "output_type": "stream",
     "text": [
      "67.24137931034483 (3042/4524) of variants are not in dbSNP for AB between 1-0.01\n",
      "67.2566371681416 (3040/4520) of variants are not in dbSNP for AB between 1-0.05\n",
      "63.13956603268149 (2357/3733) of variants are not in dbSNP for AB between 1-0.1\n",
      "37.34211971444261 (680/1821) of variants are not in dbSNP for AB between 1-0.2\n",
      "26.301369863013697 (384/1460) of variants are not in dbSNP for AB between 1-0.3\n",
      "20.527156549520768 (257/1252) of variants are not in dbSNP for AB between 1-0.4\n",
      "15.333333333333332 (138/900) of variants are not in dbSNP for AB between 1-0.5\n",
      "13.94422310756972 (70/502) of variants are not in dbSNP for AB between 1-0.6\n",
      "10.294117647058822 (35/340) of variants are not in dbSNP for AB between 1-0.7\n",
      "7.446808510638298 (21/282) of variants are not in dbSNP for AB between 1-0.8\n",
      "5.426356589147287 (14/258) of variants are not in dbSNP for AB between 1-0.9\n",
      "0 variants after filtering for AB between AB > 1-AB <= 1\n"
     ]
    }
   ],
   "source": [
    "df_yale = ab_stuff(vcf)"
   ]
  },
  {
   "cell_type": "code",
   "execution_count": 40,
   "metadata": {
    "scrolled": true
   },
   "outputs": [
    {
     "name": "stdout",
     "output_type": "stream",
     "text": [
      "50.05285412262156 (947/1892) of variants are not in dbSNP for AB between 1-0.01\n",
      "50.203606748109365 (863/1719) of variants are not in dbSNP for AB between 1-0.05\n",
      "46.72960215778827 (693/1483) of variants are not in dbSNP for AB between 1-0.1\n",
      "28.197381671701915 (280/993) of variants are not in dbSNP for AB between 1-0.2\n",
      "20.794392523364486 (178/856) of variants are not in dbSNP for AB between 1-0.3\n",
      "17.177097203728362 (129/751) of variants are not in dbSNP for AB between 1-0.4\n",
      "13.644524236983843 (76/557) of variants are not in dbSNP for AB between 1-0.5\n",
      "12.084592145015106 (40/331) of variants are not in dbSNP for AB between 1-0.6\n",
      "10.78838174273859 (26/241) of variants are not in dbSNP for AB between 1-0.7\n",
      "7.981220657276995 (17/213) of variants are not in dbSNP for AB between 1-0.8\n",
      "3.9800995024875623 (8/201) of variants are not in dbSNP for AB between 1-0.9\n",
      "0 variants after filtering for AB between AB > 1-AB <= 1\n"
     ]
    }
   ],
   "source": [
    "df_uk = ab_stuff(vcf_uk)"
   ]
  },
  {
   "cell_type": "code",
   "execution_count": 41,
   "metadata": {},
   "outputs": [
    {
     "data": {
      "text/html": [
       "<div>\n",
       "<table border=\"1\" class=\"dataframe\">\n",
       "  <thead>\n",
       "    <tr style=\"text-align: right;\">\n",
       "      <th></th>\n",
       "      <th>AB</th>\n",
       "      <th>No. Variants</th>\n",
       "      <th>Not in dbSNP</th>\n",
       "      <th>Percent</th>\n",
       "    </tr>\n",
       "  </thead>\n",
       "  <tbody>\n",
       "    <tr>\n",
       "      <th>0</th>\n",
       "      <td>0.01</td>\n",
       "      <td>6416</td>\n",
       "      <td>3989</td>\n",
       "      <td>62.172693</td>\n",
       "    </tr>\n",
       "    <tr>\n",
       "      <th>1</th>\n",
       "      <td>0.05</td>\n",
       "      <td>6239</td>\n",
       "      <td>3903</td>\n",
       "      <td>62.558102</td>\n",
       "    </tr>\n",
       "    <tr>\n",
       "      <th>2</th>\n",
       "      <td>0.10</td>\n",
       "      <td>5216</td>\n",
       "      <td>3050</td>\n",
       "      <td>58.473926</td>\n",
       "    </tr>\n",
       "    <tr>\n",
       "      <th>3</th>\n",
       "      <td>0.20</td>\n",
       "      <td>2814</td>\n",
       "      <td>960</td>\n",
       "      <td>34.115139</td>\n",
       "    </tr>\n",
       "    <tr>\n",
       "      <th>4</th>\n",
       "      <td>0.30</td>\n",
       "      <td>2316</td>\n",
       "      <td>562</td>\n",
       "      <td>24.265976</td>\n",
       "    </tr>\n",
       "    <tr>\n",
       "      <th>5</th>\n",
       "      <td>0.40</td>\n",
       "      <td>2003</td>\n",
       "      <td>386</td>\n",
       "      <td>19.271093</td>\n",
       "    </tr>\n",
       "    <tr>\n",
       "      <th>6</th>\n",
       "      <td>0.50</td>\n",
       "      <td>1457</td>\n",
       "      <td>214</td>\n",
       "      <td>14.687714</td>\n",
       "    </tr>\n",
       "    <tr>\n",
       "      <th>7</th>\n",
       "      <td>0.60</td>\n",
       "      <td>833</td>\n",
       "      <td>110</td>\n",
       "      <td>13.205282</td>\n",
       "    </tr>\n",
       "    <tr>\n",
       "      <th>8</th>\n",
       "      <td>0.70</td>\n",
       "      <td>581</td>\n",
       "      <td>61</td>\n",
       "      <td>10.499139</td>\n",
       "    </tr>\n",
       "    <tr>\n",
       "      <th>9</th>\n",
       "      <td>0.80</td>\n",
       "      <td>495</td>\n",
       "      <td>38</td>\n",
       "      <td>7.676768</td>\n",
       "    </tr>\n",
       "    <tr>\n",
       "      <th>10</th>\n",
       "      <td>0.90</td>\n",
       "      <td>459</td>\n",
       "      <td>22</td>\n",
       "      <td>4.793028</td>\n",
       "    </tr>\n",
       "    <tr>\n",
       "      <th>11</th>\n",
       "      <td>1.00</td>\n",
       "      <td>0</td>\n",
       "      <td>0</td>\n",
       "      <td>NaN</td>\n",
       "    </tr>\n",
       "  </tbody>\n",
       "</table>\n",
       "</div>"
      ],
      "text/plain": [
       "      AB  No. Variants  Not in dbSNP    Percent\n",
       "0   0.01  6416          3989          62.172693\n",
       "1   0.05  6239          3903          62.558102\n",
       "2   0.10  5216          3050          58.473926\n",
       "3   0.20  2814          960           34.115139\n",
       "4   0.30  2316          562           24.265976\n",
       "5   0.40  2003          386           19.271093\n",
       "6   0.50  1457          214           14.687714\n",
       "7   0.60  833           110           13.205282\n",
       "8   0.70  581           61            10.499139\n",
       "9   0.80  495           38            7.676768 \n",
       "10  0.90  459           22            4.793028 \n",
       "11  1.00  0             0            NaN       "
      ]
     },
     "execution_count": 41,
     "metadata": {},
     "output_type": "execute_result"
    }
   ],
   "source": [
    "var = df_yale['No. Variants'] + df_uk['No. Variants']\n",
    "no = df_yale['Not in dbSNP'] + df_uk['Not in dbSNP']\n",
    "percent = no/var * 100\n",
    "\n",
    "df = pd.concat([df_yale['AB'], var, no, percent.rename('Percent')], axis=1)\n",
    "df"
   ]
  },
  {
   "cell_type": "code",
   "execution_count": 44,
   "metadata": {},
   "outputs": [
    {
     "data": {
      "image/png": "[encoded data removed]",
      "text/plain": [
       "<matplotlib.figure.Figure at 0x7f092a4785f8>"
      ]
     },
     "metadata": {},
     "output_type": "display_data"
    }
   ],
   "source": [
    "import seaborn as sns\n",
    "import matplotlib.pyplot as plt\n",
    "%matplotlib inline \n",
    "\n",
    "\n",
    "sns.set(style=\"whitegrid\")\n",
    "\n",
    "# Initialize the matplotlib figure\n",
    "f, ax = plt.subplots(figsize=(10, 10))\n",
    "\n",
    "# all vars\n",
    "sns.set_color_codes(\"pastel\")\n",
    "sns.barplot(y=\"No. Variants\", x=\"AB\", data=df,\n",
    "            label=\"Total\", color=\"0.9\")\n",
    "\n",
    "# vars NOT in dbSNP\n",
    "sns.set_color_codes(\"muted\")\n",
    "sns.barplot(y=\"Not in dbSNP\", x=\"AB\", data=df,\n",
    "            label=\"Likely Artifacts\", color=\"0.7\")\n",
    "\n",
    "ax.set(ylabel='Variants', xlabel='Allele Balance')\n",
    "ax.legend(ncol=2, loc=\"upper right\", frameon=True)\n",
    "\n",
    "\n",
    "for x in range(len(df)):\n",
    "    ax.text(x-0.3, ax.patches[x].get_height()+4, \"{}%\".format(round(df['Percent'].ix[x], 1)))\n",
    "\n",
    "fig = ax.get_figure()\n",
    "fig.savefig('AB Series Present in dbSNP.TEST.png')\n"
   ]
  },
  {
   "cell_type": "code",
   "execution_count": null,
   "metadata": {},
   "outputs": [],
   "source": []
  },
  {
   "cell_type": "code",
   "execution_count": null,
   "metadata": {},
   "outputs": [],
   "source": []
  },
  {
   "cell_type": "code",
   "execution_count": null,
   "metadata": {
    "collapsed": true
   },
   "outputs": [],
   "source": []
  }
 ],
 "metadata": {
  "anaconda-cloud": {},
  "kernelspec": {
   "display_name": "Python 3",
   "language": "python",
   "name": "python3"
  },
  "language_info": {
   "codemirror_mode": {
    "name": "ipython",
    "version": 3
   },
   "file_extension": ".py",
   "mimetype": "text/x-python",
   "name": "python",
   "nbconvert_exporter": "python",
   "pygments_lexer": "ipython3",
   "version": "3.5.2"
  }
 },
 "nbformat": 4,
 "nbformat_minor": 1
}
