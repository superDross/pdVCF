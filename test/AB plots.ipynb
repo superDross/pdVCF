{
 "cells": [
  {
   "cell_type": "code",
   "execution_count": 1,
   "metadata": {
    "collapsed": false
   },
   "outputs": [],
   "source": [
    "from pdVCF.pdVCF import VCF\n",
    "import copy\n",
    "import pandas as pd\n",
    "import seaborn as sns"
   ]
  },
  {
   "cell_type": "code",
   "execution_count": null,
   "metadata": {
    "collapsed": true
   },
   "outputs": [],
   "source": [
    "f = 'vep.dbSNP.var.ug.both.yale.taad.filters.renamed.vcf'\n",
    "vcf = VCF(f)"
   ]
  },
  {
   "cell_type": "code",
   "execution_count": 2,
   "metadata": {
    "collapsed": false
   },
   "outputs": [
    {
     "name": "stderr",
     "output_type": "stream",
     "text": [
      "C:\\cygwin64\\home\\dross11\\projects\\pdVCF\\pdVCF\\vcf2dataframe.py:265: PerformanceWarning: dropping on a non-lexsorted multi-index without a level parameter may impact performance.\n",
      "  df = df.drop('UID', axis=1)\n"
     ]
    }
   ],
   "source": [
    "vcf_uk = VCF('var.both.taadUkJan2017.filters.vcf')"
   ]
  },
  {
   "cell_type": "code",
   "execution_count": 4,
   "metadata": {
    "collapsed": false
   },
   "outputs": [],
   "source": [
    "def ab_stuff(vcf):\n",
    "    AB_list = [0.01, 0.05, 0.1, 0.2, 0.3, 0.4, 0.5, 0.6, 0.7, 0.8, 0.9, 1]\n",
    "\n",
    "    data = []\n",
    "\n",
    "    for ab in AB_list:\n",
    "        v = copy.deepcopy(vcf)\n",
    "\n",
    "        ab_min = \"AB > {}\".format( max(0, ab-0.1))\n",
    "        ab_max = \"AB <= {}\".format(ab)\n",
    "\n",
    "        v.filter_vcf([ab_min, ab_max, 'DP >= 50', 'GQ >= 30', 'GT != 0/0', 'GT != ./.'], op='&', how='any')\n",
    "        not_in_DB = len(v.vcf[v.vcf['ID'] == '.'])\n",
    "\n",
    "        if v.vcf.shape[0] > 0:\n",
    "            percent = not_in_DB / v.vcf.shape[0] * 100\n",
    "            print(\"{} ({}/{}) of variants are not in dbSNP for AB between {}-{}\".format(percent, not_in_DB, v.vcf.shape[0], max(0, round(ab-0.1, 1)), ab))\n",
    "        else:\n",
    "            print(\"0 variants after filtering for AB between {}-{}\".format(ab_min, ab_max))\n",
    "            pass\n",
    "\n",
    "        data.append([ab, v.vcf.shape[0], not_in_DB, percent])\n",
    "\n",
    "\n",
    "\n",
    "\n",
    "    df = pd.DataFrame(columns=['AB', 'No. Variants', 'Not in dbSNP', 'Percent'],\n",
    "                      data=data)\n",
    "    return df\n",
    "\n"
   ]
  },
  {
   "cell_type": "code",
   "execution_count": null,
   "metadata": {
    "collapsed": false
   },
   "outputs": [],
   "source": [
    "df_yale = ab_stuff(vcf)\n"
   ]
  },
  {
   "cell_type": "code",
   "execution_count": 5,
   "metadata": {
    "collapsed": false
   },
   "outputs": [
    {
     "name": "stdout",
     "output_type": "stream",
     "text": [
      "44.0251572327044 (70/159) of variants are not in dbSNP for AB between 0-0.01\n",
      "43.79562043795621 (120/274) of variants are not in dbSNP for AB between 0-0.05\n",
      "54.48154657293497 (310/569) of variants are not in dbSNP for AB between 0-0.1\n",
      "69.14119359534206 (475/687) of variants are not in dbSNP for AB between 0.1-0.2\n",
      "44.71299093655589 (148/331) of variants are not in dbSNP for AB between 0.2-0.3\n",
      "17.794486215538846 (71/399) of variants are not in dbSNP for AB between 0.3-0.4\n",
      "13.257575757575758 (70/528) of variants are not in dbSNP for AB between 0.4-0.5\n",
      "9.615384615384617 (45/468) of variants are not in dbSNP for AB between 0.5-0.6\n",
      "7.5098814229249005 (19/253) of variants are not in dbSNP for AB between 0.6-0.7\n",
      "10.909090909090908 (12/110) of variants are not in dbSNP for AB between 0.7-0.8\n",
      "16.94915254237288 (10/59) of variants are not in dbSNP for AB between 0.8-0.9\n",
      "3.9800995024875623 (8/201) of variants are not in dbSNP for AB between 0.9-1\n"
     ]
    }
   ],
   "source": [
    "df_uk = ab_stuff(vcf_uk)"
   ]
  },
  {
   "cell_type": "code",
   "execution_count": 6,
   "metadata": {
    "collapsed": false
   },
   "outputs": [
    {
     "data": {
      "image/png": "[encoded data removed]",
      "text/plain": [
       "<matplotlib.figure.Figure at 0xb3f3e80>"
      ]
     },
     "metadata": {},
     "output_type": "display_data"
    }
   ],
   "source": [
    "import seaborn as sns\n",
    "import matplotlib.pyplot as plt\n",
    "%matplotlib inline \n",
    "\n",
    "\n",
    "sns.set(style=\"whitegrid\")\n",
    "\n",
    "# Initialize the matplotlib figure\n",
    "f, ax = plt.subplots(figsize=(10, 10))\n",
    "\n",
    "# all vars\n",
    "sns.set_color_codes(\"pastel\")\n",
    "sns.barplot(y=\"No. Variants\", x=\"AB\", data=df,\n",
    "            label=\"Total\", color=\"0.9\")\n",
    "\n",
    "# vars NOT in dbSNP\n",
    "sns.set_color_codes(\"muted\")\n",
    "sns.barplot(y=\"Not in dbSNP\", x=\"AB\", data=df,\n",
    "            label=\"Likely Artifacts\", color=\"0.7\")\n",
    "\n",
    "ax.set(ylabel='Variants', xlabel='Allele Balance')\n",
    "ax.legend(ncol=2, loc=\"upper right\", frameon=True)\n",
    "\n",
    "\n",
    "for x in range(len(df)):\n",
    "    ax.text(x-0.3, ax.patches[x].get_height()+4, \"{}%\".format(round(df['Percent'].ix[x], 1)))\n",
    "\n",
    "fig = ax.get_figure()\n",
    "fig.savefig('AB Series Present in dbSNP.png')\n"
   ]
  },
  {
   "cell_type": "code",
   "execution_count": null,
   "metadata": {
    "collapsed": false
   },
   "outputs": [],
   "source": []
  },
  {
   "cell_type": "code",
   "execution_count": null,
   "metadata": {
    "collapsed": false
   },
   "outputs": [],
   "source": []
  },
  {
   "cell_type": "code",
   "execution_count": null,
   "metadata": {
    "collapsed": true
   },
   "outputs": [],
   "source": []
  }
 ],
 "metadata": {
  "anaconda-cloud": {},
  "kernelspec": {
   "display_name": "Python [Root]",
   "language": "python",
   "name": "Python [Root]"
  },
  "language_info": {
   "codemirror_mode": {
    "name": "ipython",
    "version": 3
   },
   "file_extension": ".py",
   "mimetype": "text/x-python",
   "name": "python",
   "nbconvert_exporter": "python",
   "pygments_lexer": "ipython3",
   "version": "3.5.2"
  }
 },
 "nbformat": 4,
 "nbformat_minor": 0
}
