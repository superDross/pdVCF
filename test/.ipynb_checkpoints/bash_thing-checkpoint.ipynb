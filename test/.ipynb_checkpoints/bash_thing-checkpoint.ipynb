{
 "cells": [
  {
   "cell_type": "code",
   "execution_count": 1,
   "metadata": {
    "collapsed": false
   },
   "outputs": [
    {
     "name": "stdout",
     "output_type": "stream",
     "text": []
    }
   ],
   "source": [
    "j=\"var.both.taadUkJan2017.filters.vcf\"\n",
    "o=\"var.both.taadUkOctoberRepeatLibrariesDec2016.filters.vcf\"\n",
    "t=26PL1207.oct.noInDels.recode.vcf"
   ]
  },
  {
   "cell_type": "code",
   "execution_count": 21,
   "metadata": {
    "collapsed": false
   },
   "outputs": [
    {
     "name": "stdout",
     "output_type": "stream",
     "text": [
      "\r\n",
      "VCFtools - 0.1.15\r\n",
      "(C) Adam Auton and Anthony Marcketta 2009\r\n",
      "\r\n",
      "Parameters as interpreted:\r\n",
      "\t--vcf 26PL1207.oct.noInDels.recode.vcf\r\n",
      "\t--minDP 50\r\n",
      "\t--recode\r\n",
      "\r\n",
      "After filtering, kept 2 out of 2 Individuals\r\n",
      "Outputting VCF file...\r\n",
      "After filtering, kept 6 out of a possible 6 Sites\r\n",
      "Run Time = 0.00 seconds\r\n",
      "##fileformat=VCFv4.2\r\n",
      "##FILTER=<ID=FSfilterSNV,Description=\"FS > 60.0\">\r\n",
      "##FILTER=<ID=FSindelFilter,Description=\"FS > 200.0\">\r\n",
      "##FILTER=<ID=LowQual,Description=\"Low quality\">\r\n",
      "##FILTER=<ID=MQRankSumFilterSNV,Description=\"MQRankSum < -12.5\">\r\n",
      "##FILTER=<ID=MQfilterSNV,Description=\"MQ < 40.0\">\r\n",
      "##FILTER=<ID=QDfilterSNV,Description=\"QD < 2.0\">\r\n",
      "##FILTER=<ID=QDindelFilter,Description=\"QD < 2.0\">\r\n",
      "##FILTER=<ID=ReadPosRankSumFilterSNV,Description=\"ReadPosRankSum < -8.0\">\r\n",
      "##FILTER=<ID=ReadPosRankSumIndelFilter,Description=\"ReadPosRankSum < -20.0\">\r\n",
      "##FORMAT=<ID=AD,Number=R,Type=Integer,Description=\"Allelic depths for the ref and alt alleles in the order listed\">\r\n",
      "##FORMAT=<ID=DP,Number=1,Type=Integer,Description=\"Approximate read depth (reads with MQ=255 or with bad mates are filtered)\">\r\n",
      "##FORMAT=<ID=GQ,Number=1,Type=Integer,Description=\"Genotype Quality\">\r\n",
      "##FORMAT=<ID=GT,Number=1,Type=String,Description=\"Genotype\">\r\n",
      "##FORMAT=<ID=PL,Number=G,Type=Integer,Description=\"Normalized, Phred-scaled likelihoods for genotypes as defined in the VCF specification\">\r\n",
      "##GATKCommandLine.CombineVariants=<ID=CombineVariants,CommandLineOptions=\"analysis_type=CombineVariants input_file=[] showFullBamList=false read_buffer_size=null read_filter=[] disable_read_filter=[] intervals=null excludeIntervals=null interval_set_rule=UNION interval_merging=ALL interval_padding=0 reference_sequence=/home/dparry/ref/GRCh37/hs37d5.fa nonDeterministicRandomSeed=false disableDithering=false maxRuntime=-1 maxRuntimeUnits=MINUTES downsampling_type=BY_SAMPLE downsample_to_fraction=null downsample_to_coverage=1000 baq=OFF baqGapOpenPenalty=40.0 refactor_NDN_cigar_string=false fix_misencoded_quality_scores=false allow_potentially_misencoded_quality_scores=false useOriginalQualities=false defaultBaseQualities=-1 performanceLog=null BQSR=null quantize_quals=0 static_quantized_quals=null round_down_quantized=false disable_indel_quals=false emit_original_quals=false preserve_qscores_less_than=6 globalQScorePrior=-1.0 validation_strictness=SILENT remove_program_records=false keep_program_records=false sample_rename_mapping_file=null unsafe=null disable_auto_index_creation_and_locking_when_reading_rods=false no_cmdline_in_header=false sites_only=false never_trim_vcf_format_field=false bcf=false bam_compression=null simplifyBAM=false disable_bam_indexing=false generate_md5=false num_threads=1 num_cpu_threads_per_data_thread=1 num_io_threads=0 monitorThreadEfficiency=false num_bam_file_handles=null read_group_black_list=null pedigree=[] pedigreeString=[] pedigreeValidationType=STRICT allow_intervals_with_unindexed_bam=false generateShadowBCF=false variant_index_type=DYNAMIC_SEEK variant_index_parameter=-1 reference_window_stop=0 phone_home= gatk_key=null tag=NA logging_level=INFO log_to_file=null help=false version=false variant=[(RodBindingCollection [(RodBinding name=variant source=var.snv.taadUkOctoberRepeatLibrariesDec2016.filters.vcf.gz)]), (RodBindingCollection [(RodBinding name=variant2 source=var.indel.taadUkOctoberRepeatLibrariesDec2016.filters.vcf.gz)])] out=/exports/eddie/scratch/dparry/October2016RepeatLibraries/var.both.taadUkOctoberRepeatLibrariesDec2016.filters.vcf.gz genotypemergeoption=UNSORTED filteredrecordsmergetype=KEEP_IF_ANY_UNFILTERED multipleallelesmergetype=BY_TYPE rod_priority_list=null printComplexMerges=false filteredAreUncalled=false minimalVCF=false excludeNonVariants=false setKey=set assumeIdenticalSamples=false minimumN=1 suppressCommandLineHeader=false mergeInfoWithMaxAC=false filter_reads_with_N_cigar=false filter_mismatching_base_and_quals=false filter_bases_not_stored=false\",Date=\"Fri Dec 16 10:23:07 GMT 2016\",Epoch=1481883787455,Version=3.6-0-g89b7209>\r\n",
      "##GATKCommandLine.UnifiedGenotyper=<ID=UnifiedGenotyper,CommandLineOptions=\"analysis_type=UnifiedGenotyper input_file=[bams/21AI1224-161011-0-1_sorted_indelrealign_bqsr.bam, bams/21IB1281-161011-0-1_sorted_indelrealign_bqsr.bam, bams/21IL1279-161011-0-1_sorted_indelrealign_bqsr.bam, bams/21JH1219-161011-0-1_sorted_indelrealign_bqsr.bam, bams/21JL1278-161011-0-1_sorted_indelrealign_bqsr.bam, bams/21KC1280-161011-0-1_sorted_indelrealign_bqsr.bam, bams/21PB1303-161011-0-1_sorted_indelrealign_bqsr.bam, bams/21PS1217-161011-0-1_sorted_indelrealign_bqsr.bam, bams/21QA1105-161011-0-1_sorted_indelrealign_bqsr.bam, bams/21WG1262-161011-0-1_sorted_indelrealign_bqsr.bam, bams/22AW1185-161011-0-1_sorted_indelrealign_bqsr.bam, bams/22BB1282-161011-0-1_sorted_indelrealign_bqsr.bam, bams/22BW1284-161011-0-1_sorted_indelrealign_bqsr.bam, bams/22GK1188-161011-0-1_sorted_indelrealign_bqsr.bam, bams/22KF1283-161011-0-1_sorted_indelrealign_bqsr.bam, bams/22VW1151-161011-0-1_sorted_indelrealign_bqsr.bam, bams/26BH1161-161011-0-1_sorted_indelrealign_bqsr.bam, bams/26BS1176-161011-0-1_sorted_indelrealign_bqsr.bam, bams/26BW1201-161011-0-1_sorted_indelrealign_bqsr.bam, bams/26CB1202-161011-0-1_sorted_indelrealign_bqsr.bam, bams/26CS1154-161011-0-1_sorted_indelrealign_bqsr.bam, bams/26CS1165-161011-0-1_sorted_indelrealign_bqsr.bam, bams/26DA1193-161011-0-1_sorted_indelrealign_bqsr.bam, bams/26DL1132-161011-0-1_sorted_indelrealign_bqsr.bam, bams/26ED1139-161011-0-1_sorted_indelrealign_bqsr.bam, bams/26EE1157-161011-0-1_sorted_indelrealign_bqsr.bam, bams/26ES1140-161011-0-1_sorted_indelrealign_bqsr.bam, bams/26GH1181-161011-0-1_sorted_indelrealign_bqsr.bam, bams/26GW1196-161011-0-1_sorted_indelrealign_bqsr.bam, bams/26ID1179-161011-0-1_sorted_indelrealign_bqsr.bam, bams/26IT1169-161011-0-1_sorted_indelrealign_bqsr.bam, bams/26JB1205-161011-0-1_sorted_indelrealign_bqsr.bam, bams/26JG1215-161011-0-1_sorted_indelrealign_bqsr.bam, bams/26JM1155-161011-0-1_sorted_indelrealign_bqsr.bam, bams/26JW1182-161011-0-1_sorted_indelrealign_bqsr.bam, bams/26KE1137-161011-0-1_sorted_indelrealign_bqsr.bam, bams/26LG1175-161011-0-1_sorted_indelrealign_bqsr.bam, bams/26LM1174-161011-0-1_sorted_indelrealign_bqsr.bam, bams/26MH1213-161011-0-1_sorted_indelrealign_bqsr.bam, bams/26PH1135-161011-0-1_sorted_indelrealign_bqsr.bam, bams/26PL1207-161011-0-1_sorted_indelrealign_bqsr.bam, bams/26RG1162-161011-0-1_sorted_indelrealign_bqsr.bam, bams/26RN1152-161011-0-1_sorted_indelrealign_bqsr.bam, bams/26SH1138-161011-0-1_sorted_indelrealign_bqsr.bam, bams/26SH1192-161011-0-1_sorted_indelrealign_bqsr.bam, bams/26SS1216-161011-0-1_sorted_indelrealign_bqsr.bam, bams/26TS1203-161011-0-1_sorted_indelrealign_bqsr.bam, bams/Blank-0-161011-161011-0-1_sorted_indelrealign_bqsr.bam] showFullBamList=false read_buffer_size=null read_filter=[] disable_read_filter=[] intervals=[/exports/eddie3_homes_local/dparry/taad_project_scripts/processing/../data/taad_both_genes_b37.bed] excludeIntervals=null interval_set_rule=UNION interval_merging=ALL interval_padding=0 reference_sequence=/home/dparry/ref/GRCh37/hs37d5.fa nonDeterministicRandomSeed=false disableDithering=false maxRuntime=-1 maxRuntimeUnits=MINUTES downsampling_type=BY_SAMPLE downsample_to_fraction=null downsample_to_coverage=250 baq=OFF baqGapOpenPenalty=40.0 refactor_NDN_cigar_string=false fix_misencoded_quality_scores=false allow_potentially_misencoded_quality_scores=false useOriginalQualities=false defaultBaseQualities=-1 performanceLog=null BQSR=null quantize_quals=0 static_quantized_quals=null round_down_quantized=false disable_indel_quals=false emit_original_quals=false preserve_qscores_less_than=6 globalQScorePrior=-1.0 validation_strictness=SILENT remove_program_records=false keep_program_records=false sample_rename_mapping_file=null unsafe=null disable_auto_index_creation_and_locking_when_reading_rods=false no_cmdline_in_header=false sites_only=false never_trim_vcf_format_field=false bcf=false bam_compression=null simplifyBAM=false disable_bam_indexing=false generate_md5=false num_threads=1 num_cpu_threads_per_data_thread=1 num_io_threads=0 monitorThreadEfficiency=false num_bam_file_handles=null read_group_black_list=null pedigree=[] pedigreeString=[] pedigreeValidationType=STRICT allow_intervals_with_unindexed_bam=false generateShadowBCF=false variant_index_type=DYNAMIC_SEEK variant_index_parameter=-1 reference_window_stop=0 phone_home= gatk_key=null tag=NA logging_level=INFO log_to_file=null help=false version=false genotype_likelihoods_model=SNP pcr_error_rate=1.0E-4 computeSLOD=false pair_hmm_implementation=LOGLESS_CACHING min_base_quality_score=17 max_deletion_fraction=0.05 min_indel_count_for_genotyping=5 min_indel_fraction_per_sample=0.25 indelGapContinuationPenalty=10 indelGapOpenPenalty=45 indelHaplotypeSize=80 indelDebug=false ignoreSNPAlleles=false allReadsSP=false ignoreLaneInfo=false reference_sample_calls=(RodBinding name= source=UNBOUND) reference_sample_name=null min_quality_score=1 max_quality_score=40 site_quality_prior=20 min_power_threshold_for_calling=0.95 annotateNDA=false heterozygosity=0.001 indel_heterozygosity=1.25E-4 standard_min_confidence_threshold_for_calling=30.0 standard_min_confidence_threshold_for_emitting=10.0 max_alternate_alleles=6 max_num_PL_values=100 input_prior=[] sample_ploidy=2 genotyping_mode=DISCOVERY alleles=(RodBinding name= source=UNBOUND) contamination_fraction_to_filter=0.0 contamination_fraction_per_sample_file=null p_nonref_model=null exactcallslog=null output_mode=EMIT_VARIANTS_ONLY allSitePLs=false dbsnp=(RodBinding name=dbsnp source=/home/dparry/ref/GRCh37/dbSNP146/All_20151104.vcf.gz) comp=[] out=/exports/eddie/scratch/dparry/October2016RepeatLibraries/var.snv.taadUkOctoberRepeatLibrariesDec2016.raw.vcf.gz onlyEmitSamples=[] debug_file=null metrics_file=null annotation=[] excludeAnnotation=[] filter_reads_with_N_cigar=false filter_mismatching_base_and_quals=false filter_bases_not_stored=false\",Date=\"Fri Dec 16 10:13:12 GMT 2016\",Epoch=1481883192960,Version=3.6-0-g89b7209>\r\n",
      "##GATKCommandLine.VariantFiltration=<ID=VariantFiltration,CommandLineOptions=\"analysis_type=VariantFiltration input_file=[] showFullBamList=false read_buffer_size=null read_filter=[] disable_read_filter=[] intervals=null excludeIntervals=null interval_set_rule=UNION interval_merging=ALL interval_padding=0 reference_sequence=/home/dparry/ref/GRCh37/hs37d5.fa nonDeterministicRandomSeed=false disableDithering=false maxRuntime=-1 maxRuntimeUnits=MINUTES downsampling_type=BY_SAMPLE downsample_to_fraction=null downsample_to_coverage=1000 baq=OFF baqGapOpenPenalty=40.0 refactor_NDN_cigar_string=false fix_misencoded_quality_scores=false allow_potentially_misencoded_quality_scores=false useOriginalQualities=false defaultBaseQualities=-1 performanceLog=null BQSR=null quantize_quals=0 static_quantized_quals=null round_down_quantized=false disable_indel_quals=false emit_original_quals=false preserve_qscores_less_than=6 globalQScorePrior=-1.0 validation_strictness=SILENT remove_program_records=false keep_program_records=false sample_rename_mapping_file=null unsafe=null disable_auto_index_creation_and_locking_when_reading_rods=false no_cmdline_in_header=false sites_only=false never_trim_vcf_format_field=false bcf=false bam_compression=null simplifyBAM=false disable_bam_indexing=false generate_md5=false num_threads=1 num_cpu_threads_per_data_thread=1 num_io_threads=0 monitorThreadEfficiency=false num_bam_file_handles=null read_group_black_list=null pedigree=[] pedigreeString=[] pedigreeValidationType=STRICT allow_intervals_with_unindexed_bam=false generateShadowBCF=false variant_index_type=DYNAMIC_SEEK variant_index_parameter=-1 reference_window_stop=0 phone_home= gatk_key=null tag=NA logging_level=INFO log_to_file=null help=false version=false variant=(RodBinding name=variant source=var.snv.taadUkOctoberRepeatLibrariesDec2016.raw.vcf.gz) mask=(RodBinding name= source=UNBOUND) out=/exports/eddie/scratch/dparry/October2016RepeatLibraries/var.snv.taadUkOctoberRepeatLibrariesDec2016.filters.vcf.gz filterExpression=[QD < 2.0 , FS > 60.0, MQ < 40.0, MQRankSum < -12.5, ReadPosRankSum < -8.0] filterName=[QDfilterSNV, FSfilterSNV, MQfilterSNV, MQRankSumFilterSNV, ReadPosRankSumFilterSNV] genotypeFilterExpression=[] genotypeFilterName=[] clusterSize=3 clusterWindowSize=0 maskExtension=0 maskName=Mask filterNotInMask=false missingValuesInExpressionsShouldEvaluateAsFailing=false invalidatePreviousFilters=false invertFilterExpression=false invertGenotypeFilterExpression=false setFilteredGtToNocall=false filter_reads_with_N_cigar=false filter_mismatching_base_and_quals=false filter_bases_not_stored=false\",Date=\"Fri Dec 16 10:22:52 GMT 2016\",Epoch=1481883772503,Version=3.6-0-g89b7209>\r\n",
      "##INFO=<ID=AC,Number=A,Type=Integer,Description=\"Allele count in genotypes, for each ALT allele, in the same order as listed\">\r\n",
      "##INFO=<ID=LOLZ,Number=1,Type=String,Description=\"Source VCF for the merged record in CombineVariants\">\r\n",
      "##contig=<ID=1,length=249250621>\r\n",
      "##contig=<ID=2,length=243199373>\r\n",
      "##contig=<ID=3,length=198022430>\r\n",
      "##contig=<ID=4,length=191154276>\r\n",
      "##contig=<ID=5,length=180915260>\r\n",
      "##contig=<ID=6,length=171115067>\r\n",
      "##contig=<ID=7,length=159138663>\r\n",
      "##contig=<ID=8,length=146364022>\r\n",
      "##contig=<ID=9,length=141213431>\r\n",
      "##contig=<ID=10,length=135534747>\r\n",
      "##contig=<ID=11,length=135006516>\r\n",
      "##contig=<ID=12,length=133851895>\r\n",
      "##contig=<ID=13,length=115169878>\r\n",
      "##contig=<ID=14,length=107349540>\r\n",
      "##contig=<ID=15,length=102531392>\r\n",
      "##contig=<ID=16,length=90354753>\r\n",
      "##contig=<ID=17,length=81195210>\r\n",
      "##contig=<ID=18,length=78077248>\r\n",
      "##contig=<ID=19,length=59128983>\r\n",
      "##contig=<ID=20,length=63025520>\r\n",
      "##contig=<ID=21,length=48129895>\r\n",
      "##contig=<ID=22,length=51304566>\r\n",
      "##contig=<ID=X,length=155270560>\r\n",
      "##contig=<ID=Y,length=59373566>\r\n",
      "##contig=<ID=MT,length=16569>\r\n",
      "##contig=<ID=GL000207.1,length=4262>\r\n",
      "##contig=<ID=GL000226.1,length=15008>\r\n",
      "##contig=<ID=GL000229.1,length=19913>\r\n",
      "##contig=<ID=GL000231.1,length=27386>\r\n",
      "##contig=<ID=GL000210.1,length=27682>\r\n",
      "##contig=<ID=GL000239.1,length=33824>\r\n",
      "##contig=<ID=GL000235.1,length=34474>\r\n",
      "##contig=<ID=GL000201.1,length=36148>\r\n",
      "##contig=<ID=GL000247.1,length=36422>\r\n",
      "##contig=<ID=GL000245.1,length=36651>\r\n",
      "##contig=<ID=GL000197.1,length=37175>\r\n",
      "##contig=<ID=GL000203.1,length=37498>\r\n",
      "##contig=<ID=GL000246.1,length=38154>\r\n",
      "##contig=<ID=GL000249.1,length=38502>\r\n",
      "##contig=<ID=GL000196.1,length=38914>\r\n",
      "##contig=<ID=GL000248.1,length=39786>\r\n",
      "##contig=<ID=GL000244.1,length=39929>\r\n",
      "##contig=<ID=GL000238.1,length=39939>\r\n",
      "##contig=<ID=GL000202.1,length=40103>\r\n",
      "##contig=<ID=GL000234.1,length=40531>\r\n",
      "##contig=<ID=GL000232.1,length=40652>\r\n",
      "##contig=<ID=GL000206.1,length=41001>\r\n",
      "##contig=<ID=GL000240.1,length=41933>\r\n",
      "##contig=<ID=GL000236.1,length=41934>\r\n",
      "##contig=<ID=GL000241.1,length=42152>\r\n",
      "##contig=<ID=GL000243.1,length=43341>\r\n",
      "##contig=<ID=GL000242.1,length=43523>\r\n",
      "##contig=<ID=GL000230.1,length=43691>\r\n",
      "##contig=<ID=GL000237.1,length=45867>\r\n",
      "##contig=<ID=GL000233.1,length=45941>\r\n",
      "##contig=<ID=GL000204.1,length=81310>\r\n",
      "##contig=<ID=GL000198.1,length=90085>\r\n",
      "##contig=<ID=GL000208.1,length=92689>\r\n",
      "##contig=<ID=GL000191.1,length=106433>\r\n",
      "##contig=<ID=GL000227.1,length=128374>\r\n",
      "##contig=<ID=GL000228.1,length=129120>\r\n",
      "##contig=<ID=GL000214.1,length=137718>\r\n",
      "##contig=<ID=GL000221.1,length=155397>\r\n",
      "##contig=<ID=GL000209.1,length=159169>\r\n",
      "##contig=<ID=GL000218.1,length=161147>\r\n",
      "##contig=<ID=GL000220.1,length=161802>\r\n",
      "##contig=<ID=GL000213.1,length=164239>\r\n",
      "##contig=<ID=GL000211.1,length=166566>\r\n",
      "##contig=<ID=GL000199.1,length=169874>\r\n",
      "##contig=<ID=GL000217.1,length=172149>\r\n",
      "##contig=<ID=GL000216.1,length=172294>\r\n",
      "##contig=<ID=GL000215.1,length=172545>\r\n",
      "##contig=<ID=GL000205.1,length=174588>\r\n",
      "##contig=<ID=GL000219.1,length=179198>\r\n",
      "##contig=<ID=GL000224.1,length=179693>\r\n",
      "##contig=<ID=GL000223.1,length=180455>\r\n",
      "##contig=<ID=GL000195.1,length=182896>\r\n",
      "##contig=<ID=GL000212.1,length=186858>\r\n",
      "##contig=<ID=GL000222.1,length=186861>\r\n",
      "##contig=<ID=GL000200.1,length=187035>\r\n",
      "##contig=<ID=GL000193.1,length=189789>\r\n",
      "##contig=<ID=GL000194.1,length=191469>\r\n",
      "##contig=<ID=GL000225.1,length=211173>\r\n",
      "##contig=<ID=GL000192.1,length=547496>\r\n",
      "##contig=<ID=NC_007605,length=171823>\r\n",
      "##contig=<ID=hs37d5,length=35477943>\r\n",
      "##reference=file:///home/dparry/ref/GRCh37/hs37d5.fa\r\n",
      "##source_20170212.1=vcf-subset(v0.1.14-12-gcdb80b8) -e -c 26PL1207 vcfs/var.both.taadUkOctoberRepeatLibrariesDec2016.filters.vcf\r\n",
      "#CHROM\tPOS\tID\tREF\tALT\tQUAL\tFILTER\tINFO\tFORMAT\t26PL1207\t22MI1099\r\n",
      "1\t1000\t.\tA\tG\t24.89\tLowQual\t.\tGT:AD:DP:GQ:PL\t./.:10,1:11:3:3,0,197\t./.::.:.:\r\n",
      "1\t2234385\t.\tC\tT\t9953.67\tPASS\t.\tGT:AD:DP:GQ:PL\t./.:5,11:16:99:289,0,103\t./.:10,1:11:3:3,0,197\r\n",
      "1\t2235243\t.\tC\tT\t82.06\tPASS\t.\tGT:AD:DP:GQ:PL\t./.:4,1:5:16:16,0,102\t0/1:40,100:140:50:150,0,1888\r\n",
      "1\t2235792\t.\tA\tG\t436.66\tQDfilterSNV\t.\tGT:AD:DP:GQ:PL\t0/1:93,17:110:99:145,0,1894\t0/0:50,50:100:89:100,0,100\r\n",
      "1\t2235901\t.\tA\tG\t24.89\tLowQual\t.\tGT:AD:DP:GQ:PL\t./.:10,1:11:3:3,0,197\t1/1:200,200:400:90:100,0,100\r\n",
      "1\t2239999\t.\tA\tG,T\t24.89\tLowQual\t.\tGT:AD:DP:GQ:PL\t./.:10,1,4:15:3:3,0,197\t0/1:100,20,100:220:90:1000,500,1000\r\n"
     ]
    }
   ],
   "source": [
    "vcftools --minDP 50 --vcf $t --recode\n",
    "cat out.recode.vcf"
   ]
  },
  {
   "cell_type": "code",
   "execution_count": 4,
   "metadata": {
    "collapsed": false
   },
   "outputs": [
    {
     "name": "stdout",
     "output_type": "stream",
     "text": [
      "Usage: vcf-subset [OPTIONS] in.vcf.gz > out.vcf\r\n",
      "Options:\r\n",
      "   -a, --trim-alt-alleles           Remove alternate alleles if not found in the subset\r\n",
      "   -c, --columns <string>           File or comma-separated list of columns to keep in the vcf file. If file, one column per row\r\n",
      "   -e, --exclude-ref                Exclude rows not containing variants.\r\n",
      "   -f, --force                      Proceed anyway even if VCF does not contain some of the samples.\r\n",
      "   -p, --private                    Print only rows where only the subset columns carry an alternate allele.\r\n",
      "   -r, --replace-with-ref           Replace the excluded types with reference allele instead of dot.\r\n",
      "   -t, --type <list>                Comma-separated list of variant types to include: ref,SNPs,indels,MNPs,other.\r\n",
      "   -u, --keep-uncalled              Do not exclude rows without calls.\r\n",
      "   -h, -?, --help                   This help message.\r\n",
      "Examples:\r\n",
      "   cat in.vcf | vcf-subset -r -t indels -e -c SAMPLE1 > out.vcf\r\n",
      "\r\n"
     ]
    }
   ],
   "source": []
  },
  {
   "cell_type": "code",
   "execution_count": null,
   "metadata": {
    "collapsed": true
   },
   "outputs": [],
   "source": []
  }
 ],
 "metadata": {
  "kernelspec": {
   "display_name": "Bash",
   "language": "bash",
   "name": "bash"
  },
  "language_info": {
   "codemirror_mode": "shell",
   "file_extension": ".sh",
   "mimetype": "text/x-sh",
   "name": "bash"
  }
 },
 "nbformat": 4,
 "nbformat_minor": 1
}
