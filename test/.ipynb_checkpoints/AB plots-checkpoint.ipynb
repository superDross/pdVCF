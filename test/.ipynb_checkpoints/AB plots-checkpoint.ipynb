{
 "cells": [
  {
   "cell_type": "code",
   "execution_count": 1,
   "metadata": {},
   "outputs": [],
   "source": [
    "from pdVCF.pdVCF import VCF\n",
    "import copy\n",
    "import pandas as pd\n",
    "import seaborn as sns"
   ]
  },
  {
   "cell_type": "code",
   "execution_count": 2,
   "metadata": {},
   "outputs": [
    {
     "name": "stderr",
     "output_type": "stream",
     "text": [
      "/home/david/projects/pdVCF/pdVCF/vcf2dataframe.py:262: PerformanceWarning: dropping on a non-lexsorted multi-index without a level parameter may impact performance.\n",
      "  df = df.drop('UID', axis=1)\n"
     ]
    }
   ],
   "source": [
    "f = 'vcfs/vep.dbSNP.var.ug.both.yale.taad.filters.renamed.vcf'\n",
    "vcf = VCF(f)"
   ]
  },
  {
   "cell_type": "code",
   "execution_count": 3,
   "metadata": {},
   "outputs": [
    {
     "name": "stderr",
     "output_type": "stream",
     "text": [
      "/home/david/projects/pdVCF/pdVCF/vcf2dataframe.py:262: PerformanceWarning: dropping on a non-lexsorted multi-index without a level parameter may impact performance.\n",
      "  df = df.drop('UID', axis=1)\n"
     ]
    }
   ],
   "source": [
    "vcf_uk = VCF('vcfs/var.both.taadUkJan2017.filters.vcf')"
   ]
  },
  {
   "cell_type": "code",
   "execution_count": 4,
   "metadata": {},
   "outputs": [],
   "source": [
    "def ab_stuff(vcf):\n",
    "    AB_list = [0.01, 0.05, 0.1, 0.2, 0.3, 0.4, 0.5, 0.6, 0.7, 0.8, 0.9, 1]\n",
    "\n",
    "    data = []\n",
    "\n",
    "    for ab in AB_list:\n",
    "        v = copy.deepcopy(vcf)\n",
    "\n",
    "        ab_min = \"AB > {}\".format( max(0, ab-0.1))\n",
    "        ab_max = \"AB <= {}\".format(ab)\n",
    "\n",
    "        v.filter_vcf([ab_min, ab_max, 'DP >= 50', 'GQ >= 30', 'GT != 0/0', 'GT != ./.'], op='&', how='any')\n",
    "        not_in_DB = len(v.vcf[v.vcf['ID'] == '.'])\n",
    "\n",
    "        if v.vcf.shape[0] > 0:\n",
    "            percent = not_in_DB / v.vcf.shape[0] * 100\n",
    "            print(\"{} ({}/{}) of variants are not in dbSNP for AB between {}-{}\".format(percent, not_in_DB, v.vcf.shape[0], max(0, round(ab-0.1, 1)), ab))\n",
    "        else:\n",
    "            print(\"0 variants after filtering for AB between {}-{}\".format(ab_min, ab_max))\n",
    "            pass\n",
    "\n",
    "        data.append([ab, v.vcf.shape[0], not_in_DB, percent])\n",
    "\n",
    "\n",
    "\n",
    "\n",
    "    df = pd.DataFrame(columns=['AB', 'No. Variants', 'Not in dbSNP', 'Percent'],\n",
    "                      data=data)\n",
    "    return df\n",
    "\n"
   ]
  },
  {
   "cell_type": "code",
   "execution_count": 5,
   "metadata": {
    "scrolled": true
   },
   "outputs": [
    {
     "name": "stdout",
     "output_type": "stream",
     "text": [
      "50.0 (14/28) of variants are not in dbSNP for AB between 0-0.01\n",
      "43.75 (21/48) of variants are not in dbSNP for AB between 0-0.05\n",
      "76.73545966228893 (818/1066) of variants are not in dbSNP for AB between 0-0.1\n",
      "79.16295636687445 (1778/2246) of variants are not in dbSNP for AB between 0.1-0.2\n",
      "55.73294629898403 (384/689) of variants are not in dbSNP for AB between 0.2-0.3\n",
      "23.80191693290735 (149/626) of variants are not in dbSNP for AB between 0.3-0.4\n",
      "15.681818181818183 (138/880) of variants are not in dbSNP for AB between 0.4-0.5\n",
      "9.893048128342247 (74/748) of variants are not in dbSNP for AB between 0.5-0.6\n",
      "9.653465346534654 (39/404) of variants are not in dbSNP for AB between 0.6-0.7\n",
      "7.8817733990147785 (16/203) of variants are not in dbSNP for AB between 0.7-0.8\n",
      "6.61764705882353 (9/136) of variants are not in dbSNP for AB between 0.8-0.9\n",
      "5.426356589147287 (14/258) of variants are not in dbSNP for AB between 0.9-1\n"
     ]
    }
   ],
   "source": [
    "df_yale = ab_stuff(vcf)\n"
   ]
  },
  {
   "cell_type": "code",
   "execution_count": 6,
   "metadata": {
    "scrolled": true
   },
   "outputs": [
    {
     "name": "stdout",
     "output_type": "stream",
     "text": [
      "44.0251572327044 (70/159) of variants are not in dbSNP for AB between 0-0.01\n",
      "43.79562043795621 (120/274) of variants are not in dbSNP for AB between 0-0.05\n",
      "54.48154657293497 (310/569) of variants are not in dbSNP for AB between 0-0.1\n",
      "69.14119359534206 (475/687) of variants are not in dbSNP for AB between 0.1-0.2\n",
      "44.71299093655589 (148/331) of variants are not in dbSNP for AB between 0.2-0.3\n",
      "17.794486215538846 (71/399) of variants are not in dbSNP for AB between 0.3-0.4\n",
      "13.257575757575758 (70/528) of variants are not in dbSNP for AB between 0.4-0.5\n",
      "9.615384615384617 (45/468) of variants are not in dbSNP for AB between 0.5-0.6\n",
      "7.5098814229249005 (19/253) of variants are not in dbSNP for AB between 0.6-0.7\n",
      "10.909090909090908 (12/110) of variants are not in dbSNP for AB between 0.7-0.8\n",
      "16.94915254237288 (10/59) of variants are not in dbSNP for AB between 0.8-0.9\n",
      "3.9800995024875623 (8/201) of variants are not in dbSNP for AB between 0.9-1\n"
     ]
    }
   ],
   "source": [
    "df_uk = ab_stuff(vcf_uk)"
   ]
  },
  {
   "cell_type": "code",
   "execution_count": 30,
   "metadata": {},
   "outputs": [
    {
     "data": {
      "text/html": [
       "<div>\n",
       "<table border=\"1\" class=\"dataframe\">\n",
       "  <thead>\n",
       "    <tr style=\"text-align: right;\">\n",
       "      <th></th>\n",
       "      <th>AB</th>\n",
       "      <th>No. Variants</th>\n",
       "      <th>Not in dbSNP</th>\n",
       "      <th>Percent</th>\n",
       "    </tr>\n",
       "  </thead>\n",
       "  <tbody>\n",
       "    <tr>\n",
       "      <th>0</th>\n",
       "      <td>0.01</td>\n",
       "      <td>187</td>\n",
       "      <td>84</td>\n",
       "      <td>44.919786</td>\n",
       "    </tr>\n",
       "    <tr>\n",
       "      <th>1</th>\n",
       "      <td>0.05</td>\n",
       "      <td>322</td>\n",
       "      <td>141</td>\n",
       "      <td>43.788820</td>\n",
       "    </tr>\n",
       "    <tr>\n",
       "      <th>2</th>\n",
       "      <td>0.10</td>\n",
       "      <td>1635</td>\n",
       "      <td>1128</td>\n",
       "      <td>68.990826</td>\n",
       "    </tr>\n",
       "    <tr>\n",
       "      <th>3</th>\n",
       "      <td>0.20</td>\n",
       "      <td>2933</td>\n",
       "      <td>2253</td>\n",
       "      <td>76.815547</td>\n",
       "    </tr>\n",
       "    <tr>\n",
       "      <th>4</th>\n",
       "      <td>0.30</td>\n",
       "      <td>1020</td>\n",
       "      <td>532</td>\n",
       "      <td>52.156863</td>\n",
       "    </tr>\n",
       "    <tr>\n",
       "      <th>5</th>\n",
       "      <td>0.40</td>\n",
       "      <td>1025</td>\n",
       "      <td>220</td>\n",
       "      <td>21.463415</td>\n",
       "    </tr>\n",
       "    <tr>\n",
       "      <th>6</th>\n",
       "      <td>0.50</td>\n",
       "      <td>1408</td>\n",
       "      <td>208</td>\n",
       "      <td>14.772727</td>\n",
       "    </tr>\n",
       "    <tr>\n",
       "      <th>7</th>\n",
       "      <td>0.60</td>\n",
       "      <td>1216</td>\n",
       "      <td>119</td>\n",
       "      <td>9.786184</td>\n",
       "    </tr>\n",
       "    <tr>\n",
       "      <th>8</th>\n",
       "      <td>0.70</td>\n",
       "      <td>657</td>\n",
       "      <td>58</td>\n",
       "      <td>8.828006</td>\n",
       "    </tr>\n",
       "    <tr>\n",
       "      <th>9</th>\n",
       "      <td>0.80</td>\n",
       "      <td>313</td>\n",
       "      <td>28</td>\n",
       "      <td>8.945687</td>\n",
       "    </tr>\n",
       "    <tr>\n",
       "      <th>10</th>\n",
       "      <td>0.90</td>\n",
       "      <td>195</td>\n",
       "      <td>19</td>\n",
       "      <td>9.743590</td>\n",
       "    </tr>\n",
       "    <tr>\n",
       "      <th>11</th>\n",
       "      <td>1.00</td>\n",
       "      <td>459</td>\n",
       "      <td>22</td>\n",
       "      <td>4.793028</td>\n",
       "    </tr>\n",
       "  </tbody>\n",
       "</table>\n",
       "</div>"
      ],
      "text/plain": [
       "      AB  No. Variants  Not in dbSNP    Percent\n",
       "0   0.01  187           84            44.919786\n",
       "1   0.05  322           141           43.788820\n",
       "2   0.10  1635          1128          68.990826\n",
       "3   0.20  2933          2253          76.815547\n",
       "4   0.30  1020          532           52.156863\n",
       "5   0.40  1025          220           21.463415\n",
       "6   0.50  1408          208           14.772727\n",
       "7   0.60  1216          119           9.786184 \n",
       "8   0.70  657           58            8.828006 \n",
       "9   0.80  313           28            8.945687 \n",
       "10  0.90  195           19            9.743590 \n",
       "11  1.00  459           22            4.793028 "
      ]
     },
     "execution_count": 30,
     "metadata": {},
     "output_type": "execute_result"
    }
   ],
   "source": [
    "var = df_yale['No. Variants'] + df_uk['No. Variants']\n",
    "no = df_yale['Not in dbSNP'] + df_uk['Not in dbSNP']\n",
    "percent = no/var * 100\n",
    "\n",
    "df = pd.concat([df_yale['AB'], var, no, percent.rename('Percent')], axis=1)\n",
    "df"
   ]
  },
  {
   "cell_type": "code",
   "execution_count": 31,
   "metadata": {},
   "outputs": [
    {
     "data": {
      "image/png": "[encoded data removed]",
      "text/plain": [
       "<matplotlib.figure.Figure at 0x7f08ce7adf60>"
      ]
     },
     "metadata": {},
     "output_type": "display_data"
    }
   ],
   "source": [
    "import seaborn as sns\n",
    "import matplotlib.pyplot as plt\n",
    "%matplotlib inline \n",
    "\n",
    "\n",
    "sns.set(style=\"whitegrid\")\n",
    "\n",
    "# Initialize the matplotlib figure\n",
    "f, ax = plt.subplots(figsize=(10, 10))\n",
    "\n",
    "# all vars\n",
    "sns.set_color_codes(\"pastel\")\n",
    "sns.barplot(y=\"No. Variants\", x=\"AB\", data=df,\n",
    "            label=\"Total\", color=\"0.9\")\n",
    "\n",
    "# vars NOT in dbSNP\n",
    "sns.set_color_codes(\"muted\")\n",
    "sns.barplot(y=\"Not in dbSNP\", x=\"AB\", data=df,\n",
    "            label=\"Likely Artifacts\", color=\"0.7\")\n",
    "\n",
    "ax.set(ylabel='Variants', xlabel='Allele Balance')\n",
    "ax.legend(ncol=2, loc=\"upper right\", frameon=True)\n",
    "\n",
    "\n",
    "for x in range(len(df)):\n",
    "    ax.text(x-0.3, ax.patches[x].get_height()+4, \"{}%\".format(round(df['Percent'].ix[x], 1)))\n",
    "\n",
    "fig = ax.get_figure()\n",
    "fig.savefig('AB Series Present in dbSNP.TEST.png')\n"
   ]
  },
  {
   "cell_type": "code",
   "execution_count": null,
   "metadata": {},
   "outputs": [],
   "source": []
  },
  {
   "cell_type": "code",
   "execution_count": null,
   "metadata": {},
   "outputs": [],
   "source": []
  },
  {
   "cell_type": "code",
   "execution_count": null,
   "metadata": {
    "collapsed": true
   },
   "outputs": [],
   "source": []
  }
 ],
 "metadata": {
  "anaconda-cloud": {},
  "kernelspec": {
   "display_name": "Python 3",
   "language": "python",
   "name": "python3"
  },
  "language_info": {
   "codemirror_mode": {
    "name": "ipython",
    "version": 3
   },
   "file_extension": ".py",
   "mimetype": "text/x-python",
   "name": "python",
   "nbconvert_exporter": "python",
   "pygments_lexer": "ipython3",
   "version": "3.5.2"
  }
 },
 "nbformat": 4,
 "nbformat_minor": 1
}
